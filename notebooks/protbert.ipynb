{
 "cells": [
  {
   "cell_type": "code",
   "execution_count": 1,
   "metadata": {},
   "outputs": [],
   "source": [
    "import sys\n",
    "\n",
    "# allows importing local scripts (utils folder)\n",
    "sys.path.append(\"..\")"
   ]
  },
  {
   "cell_type": "markdown",
   "metadata": {},
   "source": [
    "## Trying out ProtBERT"
   ]
  },
  {
   "cell_type": "code",
   "execution_count": null,
   "metadata": {},
   "outputs": [],
   "source": [
    "import torch\n",
    "from utils.protbert import ProtBERTEmbedder\n",
    "\n",
    "device = torch.device(\"mps\" if torch.backends.mps.is_available() else \"cpu\")\n",
    "protbert = ProtBERTEmbedder(device=device)"
   ]
  },
  {
   "cell_type": "code",
   "execution_count": 3,
   "metadata": {},
   "outputs": [
    {
     "data": {
      "text/plain": [
       "(13, 1024)"
      ]
     },
     "execution_count": 3,
     "metadata": {},
     "output_type": "execute_result"
    }
   ],
   "source": [
    "tokenized_seq_example = list(\"MVTYDFGSDEMHD\")\n",
    "\n",
    "embedding = protbert.embed_sequence(tokenized_seq_example)\n",
    "embedding.shape  # This should be [len(sequence), 1024]"
   ]
  },
  {
   "cell_type": "code",
   "execution_count": 4,
   "metadata": {},
   "outputs": [
    {
     "data": {
      "text/plain": [
       "array([[ 0.03060327,  0.02436657,  0.13633075, ..., -0.08681758,\n",
       "        -0.11452153, -0.01299387],\n",
       "       [ 0.03058379,  0.02417514,  0.13646212, ..., -0.08692887,\n",
       "        -0.1145592 , -0.01281546],\n",
       "       [ 0.03054104,  0.02443778,  0.13625446, ..., -0.08680265,\n",
       "        -0.11454351, -0.01304578],\n",
       "       ...,\n",
       "       [ 0.03060327,  0.02436657,  0.13633075, ..., -0.08681758,\n",
       "        -0.11452153, -0.01299387],\n",
       "       [ 0.03054449,  0.02441703,  0.13626868, ..., -0.08681716,\n",
       "        -0.11451912, -0.01304045],\n",
       "       [ 0.03056773,  0.024401  ,  0.13626456, ..., -0.08680427,\n",
       "        -0.11453433, -0.01304016]], dtype=float32)"
      ]
     },
     "execution_count": 4,
     "metadata": {},
     "output_type": "execute_result"
    }
   ],
   "source": [
    "embedding"
   ]
  },
  {
   "cell_type": "markdown",
   "metadata": {},
   "source": [
    "## Creating a Mapping from a Protein's PDB ID to its Residue Sequence"
   ]
  },
  {
   "cell_type": "code",
   "execution_count": 5,
   "metadata": {},
   "outputs": [],
   "source": [
    "import os\n",
    "\n",
    "if not os.path.exists(\"../datasets/processed/pdb_id_to_sequence.json\"):\n",
    "    from Bio import PDB\n",
    "\n",
    "    PDB_DIRECTORY = \"../datasets/raw/pdbs/\"\n",
    "    pdb_parser = PDB.PDBParser(QUIET=True)\n",
    "\n",
    "    sequences = {}\n",
    "\n",
    "    for filename in os.listdir(PDB_DIRECTORY):\n",
    "        pdb_file_path = os.path.join(PDB_DIRECTORY, filename)\n",
    "\n",
    "        structure = pdb_parser.get_structure(\"protein\", pdb_file_path)\n",
    "        sequence = \"\"\n",
    "\n",
    "        for model in structure:\n",
    "            for chain in model:\n",
    "                for residue in chain:\n",
    "                    if PDB.is_aa(residue, standard=True):\n",
    "                        sequence += PDB.Polypeptide.protein_letters_3to1[\n",
    "                            residue.get_resname()\n",
    "                        ]\n",
    "\n",
    "        protein_name = filename[:-4]\n",
    "        sequences[protein_name] = sequence\n",
    "        print(f\"{protein_name}'s sequence has been extracted from the PDB file\")"
   ]
  },
  {
   "cell_type": "code",
   "execution_count": 12,
   "metadata": {},
   "outputs": [],
   "source": [
    "import json\n",
    "\n",
    "if not os.path.exists(\"../datasets/processed/pdb_id_to_sequence.json\"):\n",
    "    with open(\"../datasets/processed/pdb_id_to_sequence.json\", \"w\") as f:\n",
    "        f.write(json.dumps(sequences))"
   ]
  },
  {
   "cell_type": "code",
   "execution_count": 13,
   "metadata": {},
   "outputs": [
    {
     "data": {
      "text/plain": [
       "dict_keys(['1X41', '2D9K', '1X4P', '1SRQ', '2HZ6', '6HDU', '1H1W', '1AO3', '1H3H', '2JC6', '1X5T', '1O6U', '7K15', '1X4G', '4GNK', '1A9U', '2DM2', '4BQM', '2D89', '1X69', '2ASQ', '3G9V', '2J51', '1FEW', '1A6Z', '3PBL', '1XM9', '2XRW', '1QG3', '1JPL', '1V66', '1QFA', '2DCO', '2JNG', '1CX8', '2QZ4', '2DA1', '7U5O', '2FYT', '3LPO', '7E32', '1A4R', '4BHX', '5CQR', '1SJ6', '1QR2', '1T9Z', '1FQ3', '6COY', '1Z5V', '1Z57', '2JXJ', '1CNT', '1AV1', '1AUK', '133L', '1CMO', '2FLU', '2CQL', '2CRW', '2H4V', '1Z6Z', '3K7G', '2CSS', '4WRN', '3RLE', '4LG9', '1ZC0', '2O0O', '1D3E', '3RBN', '2V37', '1DFN', '2MP1', '2H8B', '1SG1', '2XIJ', '1D1Z', '3IUG', '2QCW', '1T64', '5V02', '1JHJ', '1DEB', '1DDF', '2ADO', '6C48', '1BHT', '3FQW', '3DI2', '2LXL', '2LYH', '4TNB', '5LXR', '5GK9', '2WO3', '6K41', '1UGV', '1E7Z', '1K9I', '1LJD', '3T6G', '1EAJ', '1GZU', '1ITF', '2BYG', '4M8G', '1B09', '2P31', '1IVY', '1LJ2', '1YQ7', '1ITQ', '2YMB', '5WC9', '7CIQ', '3O4O', '1BP3', '6KZQ', '5YY8', '1UR6', '3AN2', '1GLO', '1N3Y', '1GNG', '6I57', '6N31', '2L43', '2KDD', '4TVS', '3QH9', '1IAP', '1N1F', '4HFX', '1RY7', '1LQ8', '1LRB', '2IQP', '1WF1', '2YUS', '2KJX', '6EZI', '2L80', '5NVL', '1KUW', '7T10', '4CY1', '2L81', '5KHO', '1W0V', '1RXD', '6WDP', '1IL7', '7OS2', '8EXE', '2KJY', '1WDY', '4Q2T', '2RF9', '1WFQ', '1WF0', '4F14', '3CZU', '2YT7', '1W1E', '2LLH', '2KIU', '3FE2', '4F3J', '6EWO', '2EJ7', '7SMD', '3ZZW', '6UP6', '3DRX', '6KZ1', '1N11', '2YY0', '1GO4', '4O6X', '1IC8', '1EVU', '4XBM', '4MZ2', '1B3U', '1IVO', '1B34', '1R4M', '3C6K', '1NRV', '1KLT', '1B08', '2G01', '2KPW', '3DDU', '3DFJ', '2KQS', '2LW4', '2UZG', '1KBH', '5Y7Y', '2N4Q', '1LG4', '7O0B', '1E91', '4AWN', '2I32', '1PWI', '5UWI', '5BV6', '1IXD', '3ZBF', '1GUL', '7TQL', '2LXM', '6XTE', '4PXJ', '1AZE', '5MR1', '1XWW', '7W72', '4K92', '3EBB', '2QC7', '2MPF', '2AF0', '2XIK', '1DD1', '5SZH', '3IUF', '2A1R', '5XJY', '1AXM', '2A07', '3E4E', '2AFF', '1JKG', '2ZPK', '6AVO', '2CS3', '2HCC', '6SH6', '4LG8', '1CM8', '2X11', '1J2X', '5XDR', '1AWB', '1DHS', '1CN4', '1XX9', '7Y4P', '2HAK', '2QLY', '1MB8', '1M73', '2CRA', '2DBJ', '4PCW', '6TZT', '3LRQ', '1F0J', '3G5C', '4W2R', '7BB6', '7E1Z', '5J8H', '1ZXM', '1XCR', '2CKT', '2D8Y', '1X68', '2D88', '1A81', '1HDJ', '2AR5', '2MGX', '5CJ8', '1XB7', '2DLV', '3N2N', '1ANW', '1H3I', '1H03', '1DPU', '1QK1', '2ASG', '2CH9', '2D8N', '1X4Q', '5HYD', '1AOS', '2M2D', '2CKA', '2J5D', '1X5W', '1A8E', '1AN4', '3PLS', '2FUC', '2DMG', '1TT5', '4WHC', '1A9A', '2MD7', '3URF', '2DMP', '2DL5', '4EUW', '6AL5', '2HTH', '3W1B', '1ZVD', '3G4E', '1A6Y', '2D7C', '2XRC', '2DBH', '3IM4', '1Q1V', '6QDT', '1CXZ', '6AVZ', '4ROC', '2AHX', '4KBQ', '2CRC', '2CQ9', '2ODT', '1M4K', '2VIF', '1AWW', '7PHH', '2CS1', '1Z6Y', '2AK5', '1Z68', '1C8P', '5HA6', '6DJP', '6HRL', '1CB5', '1D2B', '1AYK', '1OWX', '1S1C', '3ECS', '1VZJ', '1JIZ', '1DGI', '1DEV', '1Z83', '3LJB', '1T5Z', '4BGC', '2FC8', '1CA9', '1JJ7', '2H9R', '1Z8E', '4KLZ', '4EA3', '1C5W', '7AKO', '6BIZ', '7OFG', '1GWQ', '2I1Y', '5GJH', '1E8A', '2W83', '2Y4I', '2RRH', '4AU2', '2ERR', '4DIN', '3C9Q', '4AWL', '1LFS', '1LH9', '8GY7', '6B3I', '2NN6', '2LV2', '1KLA', '2P1L', '2BYD', '2NO2', '7VF3', '2GGF', '1R4X', '2N9C', '3SEI', '2GFU', '2PET', '1B0L', '4Z9M', '1B22', '1E4U', '2KQF', '1EW2', '1ND8', '5BO6', '1WJP', '2KDP', '5BOW', '1UPK', '2KE5', '3CW1', '2LCR', '1Y36', '2WWW', '6BR1', '2LAZ', '1POZ', '2KDG', '1I49', '1G91', '2PSN', '6RV2', '1YFK', '3FIE', '2GPO', '1WH9', '1PME', '2WUH', '6NFX', '2YU1', '1IMG', '3Q1D', '1RX0', '2L8E', '4AAA', '3V4Y', '4CXA', '1RYU', '1IOX', '3MTS', '3ABD', '2RGI', '2WZ1', '1G47', '1WDZ', '3O8Y', '1KT0', '2YUF', '3A4U', '1NHL', '1WGV', '2KJM', '6W25', '1WG7', '1W1F', '4JSN', '2LLK', '2LO1', '1PBK', '3FDT', '2B5L', '3FD5', '2KEB', '7S8L', '2K27', '1IAR', '1KY7', '1BR9', '2EJ4', '2PSX', '2L5C', '3ALN', '1N3L', '1N0W', '3TU5', '1KZZ', '2NZ2', '1PL6', '3DSH', '1NDX', '6N1Z', '2WAL', '5IJ0', '1R74', '4D0G', '6KMZ', '7SZ8', '2N80', '1YSK', '2KS9', '3S2K', '7VF2', '2LTM', '7VFS', '2BYE', '1GZW', '2YL2', '6IWV', '4D0P', '2KRK', '4CB8', '6U3R', '4ZLP', '1B3A', '6E5N', '2LVR', '1L3Y', '2WNT', '1BKZ', '2GK2', '2ERS', '2RQR', '1L1F', '2YBX', '3J0A', '5IFE', '3CO6', '1PU4', '5LXG', '1UHL', '1LFE', '1BH7', '4ZCH', '2W96', '1UJS', '4FP9', '4QSY', '1L2J', '1EOT', '2Q5E', '1Z8D', '2DX1', '1AX8', '6DF3', '3U0R', '5OJ6', '4B3Z', '4ITH', '6AXG', '1CC0', '4LI0', '1ZNC', '3ECR', '5H9M', '1XT9', '4UEG', '5V1B', '2Q7M', '2CR4', '1XYH', '2FOL', '5OEO', '1CMZ', '1M6B', '2CS0', '1Z6X', '2F8X', '1C9B', '5FOR', '6T90', '6M7X', '1J0S', '1AUI', '5H64', '3L2O', '4IZ5', '1Q02', '7UAB', '1A4P', '4I8V', '2DAR', '2JOA', '1HKF', '3LRE', '2MI1', '2XQN', '1CZS', '8A59', '6V7O', '2C2H', '2DAE', '5MGR', '4I6J', '4YFF', '1H28', '1A9W', '4Y07', '2AQL', '4EWI', '7EIB', '2Z0U', '1AM9', '2DM0', '3N2Z', '2DMQ', '1OBX', '2D9I', '1DP7', '6H3C', '3I7P', '1X57', '1SS6', '2FV8', '1ANT', '2HXY', '2DMU', '2DM4', '1MX1', '2VP7', '1FHA', '5JCO', '4GMV', '1X4A', '2CJW', '2D9Z', '4RUH', '1HDM', '7RH9', '1XB0', '4NF9', '1ANP', '2DNY', '3EWS', '2DN8', '2D8I', '1X53', '4KYI', '1X47', '6XAT', '5CIR', '1ZY8', '2HZQ', '2M1X', '6DRD', '1H10', '3PMR', '2DA7', '1Q2H', '1ZTI', '4IMY', '2XRF', '3LQM', '1V5J', '1X8B', '2D58', '1XMI', '1AB2', '1A7X', '2OQP', '3LRA', '6VCD', '3LQZ', '6F02', '1FE0', '2CS4', '2CPN', '4KAX', '2H5T', '2Q8F', '5XEQ', '5H4Y', '2X1W', '1AWE', '1J1D', '1C9Q', '1M7B', '2CQJ', '1M6Q', '6T80', '1J0W', '1CMI', '2CRF', '3WSR', '6MBW', '4PVF', '2DYP', '2V1X', '5ZQV', '2QCQ', '6SE6', '3NR5', '1JKW', '1Z92', '7UX2', '2F7S', '1M9I', '4U32', '1CB0', '1VZO', '3B2D', '4E71', '5VEI', '2BWJ', '1E96', '1LG3', '6GWJ', '2N5R', '6L0O', '2RPR', '1ELK', '4DHX', '4DKC', '2N7Z', '1BI7', '2BXR', '2LVA', '2IHC', '2Y8O', '6ECM', '1K99', '1E7K', '1YRK', '1IT6', '7OHI', '7F4D', '1UG1', '3T6A', '6Y2H', '4CVO', '1WI8', '7M0G', '6BQN', '1Y2A', '2K2R', '1G8Q', '6EVL', '1BSX', '1WJU', '4H3B', '2L4C', '2LAH', '1PLS', '5EH1', '4DRA', '2L5G', '2GSF', '4XAQ', '1G5V', '2EEI', '1YH3', '2IPE', '3OOI', '1EZF', '7ZH0', '2KIE', '2L9S', '3HI9', '6G6S', '7MIX', '1RXT', '7D68', '6G76', '2R2P', '2WZB', '4X8Y', '7SCH', '2YWK', '1ILG', '2LO4', '3MUD', '1RY0', '3FE4', '6PBG', '6EZ8', '4XNH', '1LRE', '1I8H', '1P5Z', '2B5I', '2KHW', '5NUG', '1WF6', '1WEL', '2E0T', '6P5S', '1IN9', '2LLY', '1ILP', '6NID', '7CEB', '3QE9', '2L9R', '2B7A', '1WGD', '2IPD', '5NVK', '2L87', '1G5W', '4ZTD', '4QGN', '3CZD', '1EVS', '6EUA', '2GRC', '3FHR', '1BQQ', '1I71', '3TW8', '3ZYJ', '2K3W', '6UPQ', '4DRW', '2L50', '1YDP', '5EIB', '1N1A', '6ITH', '5WBL', '1K9N', '1ITA', '1B3D', '2LUL', '3OW8', '1UEN', '4D10', '4AZ9', '5UX6', '2KQB', '1E4Q', '1EAZ', '6NR8', '6BDN', '2LWD', '2BZL', '1IUR', '3TAC', '1BF9', '2IHB', '2Y6E', '5EP6', '3AVR', '1IYF', '3QRF', '1BHD', '2UV4', '4QQ5', '1GWB', '2BTP', '1D3B', '2JV0', '5AER', '6S3Q', '1HRA', '6OTN', '5A2F', '2F73', '1Z93', '1S1G', '1S3O', '1XUN', '5F5S', '6JHD', '1MMP', '3U12', '2VE7', '3E7O', '1T5I', '1Z9E', '1DDA', '1D1J', '2DYQ', '5MR7', '1S11', '7Y6I', '7EP3', '2CPX', '7UWJ', '2CP9', '1FP0', '3ELO', '2QOS', '2DT7', '2CRP', '1JDN', '6CNM', '1DK8', '2CS5', '4GTU', '2JXZ', '1JSG', '2MH0', '5HVZ', '2HW6', '2C17', '2OQ0', '1V49', '1JSP', '1TXD', '2FY2', '2DA6', '1CZA', '4P6Z', '7NVN', '1FG9', '2D9L', '1H2K', '4P8Q', '2DNX', '1H3O', '3PL6', '1X5S', '1X6H', '7WTS', '2D8H', '1A93', '3NF1', '2DL1', '2DOK', '1ALY', '2QW4', '1H0C', '2DNO', '3IAR', '2J6L', '1X5D', '4RWV', '5VQ9', '2Z17', '2QTL', '2M1L', '2DLR', '3EU9', '2DL3', '1X4B', '2MDG', '1O4X', '1A85', '1X5F', '2DNM', '2HYI', '1AO6', '5FWS', '1X44', '2D9N', '4IB4', '4IAN', '1X50', '1FH4', '1FKN', '1AN2', '2M3D', '1ZV4', '1F3U', '1A52', '4GA7', '1OL5', '1F2Q', '2QYK', '1F1J', '6HH2', '5TF2', '1Q3X', '2JNU', '1TXQ', '2OSL', '6F1T', '6VAX', '1V4Z', '2DB8', '4YHJ', '2CRR', '4BK0', '1OZN', '1AU8', '2JXX', '2CSV', '2H4D', '2F9L', '7LXE', '1AW0', '2X29', '4BKF', '4LDQ', '2Q8R', '2CSA', '1Z5S', '2CPZ', '2OEV', '2OHF', '1D2S', '2OKJ', '2V3S', '1OVZ', '1AZV', '3RCO', '1AZ7', '2HO2', '1XWD', '1S1E', '2JW6', '5FAI', '1M9J', '4FRW', '1BHF', '2RPQ', '6EMR', '1BJ8', '1LDJ', '2EQO', '2WO6', '2UW2', '2LXI', '1BH0', '2W85', '4CO8', '2ID5', '1GW6', '2NBR', '3ZNV', '1E4S', '6PYO', '6PZT', '4CCM', '2GF2', '6B3X', '1E5W', '1IU1', '3ZLI', '3D1M', '1GZP', '1GYK', '7F69', '2BZ8', '3C5C', '4AYA', '1UFW', '6R6H', '5W6A', '4ZYA', '2LCC', '3CTZ', '6WJH', '4A8X', '1US7', '2GSE', '5YX9', '1GNU', '6NE3', '2NZT', '1Y24', '1PLP', '1YDE', '1WIM', '7Z0I', '2B49', '3Q0Q', '3Q3J', '1ILR', '2E0A', '1W0R', '4FG7', '2YUA', '1IMV', '1EXZ', '3FFL', '4MVT', '2LLL', '1INZ', '2E3M', '2LNS', '6W36', '3FGH', '4ZWJ', '3MTC', '2R3V', '2KHT', '4F11', '1WG1', '1PA7', '7OR3', '2R3A', '2LNE', '1G55', '2RGN', '2IQC', '2EDO', '7CFZ', '1GLK', '1IBX', '2LAJ', '2L7Z', '1BPV', '2KES', '2LBF', '2K21', '2K1K', '2WWP', '2WTK', '1IAT', '1G96', '5YZ0', '2EJS', '1G82', '6UPR', '1UEM', '2BZX', '7XHF', '6BDZ', '3SF4', '6KO5', '3T5X', '5G1X', '5LWY', '4D07', '6RBF', '5LUQ', '1UEZ', '7VGF', '3ZOS', '1B2T', '1NR2', '3T5O', '7DVQ', '2Y7B', '1UJU', '1WQJ', '1WR0', '1PT6', '6UHC', '7X2U', '1UK0', '7X1N', '2W84', '1BJX', '2BT2', '3CMY', '5EPC', '1BHG', '6PV7', '2GHN', '4OY9', '3IUC', '6HQ1', '6CAA', '1DGN', '6S1M', '5A2E', '2OIT', '1T6F', '1MLW', '6JJX', '5MR4', '2FBM', '2OJX', '1HSQ', '2H80', '2F5Y', '2MPC', '2A0D', '7W77', '1XUM', '1OVL', '1CMK', '1AV5', '1M62', '1FPR', '1FQV', '4KC3', '7Y5Q', '7EP0', '1J2J', '1ATK', '2JX8', '1M6D', '1JEI', '4GWM', '2CSW', '2H57', '2CR2', '2CQH', '1JDM', '3IXS', '1HJD', '1CYN', '2JO1', '2HW5', '2XSW', '2MH3', '3LQ9', '6CZK', '1A4V', '6ABO', '2DAT', '2FY1', '2DA5', '1Q1Q', '3KTR', '1V62', '2CFV', '1A5R', '1JPH', '6H3E', '1X5P', '2D8K', '1SPJ', '1X51', '4YDH', '1CW3', '7RK7', '2ARF', '5DO7', '2CI8', '2ZG1', '2ASU', '4GLP', '1FHC', '1HF1', '1MX3', '2DMW', '2HZD', '1ZZW', '1XBS', '1AOA', '1HDO', '1O7B', '7NX0', '1DR9', '2D99', '1AJJ', '1H4O', '2DIX', '2FRG', '4W9W', '2ZCH', '7LGA', '2MC3', '1H6P', '1XDT', '2C9Y', '4WN5', '1F9P', '1CR8', '2CL3', '2J1L', '2CLR', '6VKJ', '3LY5', '4Y72', '3WOY', '1JXS', '1H6G', '5J0A', '2DKP', '2M6N', '2DK1', '2C6V', '5M8L', '7YQC', '1QBJ', '2CB8', '1FB1', '1HLC', '2M9A', '7PX3', '3IHY', '7B2R', '4BY3', '1V05', '5C5S', '4GDK', '2MMY', '1A0N', '1JU5', '2XTC', '2MOF', '7UFG', '4P3E', '1FWQ', '2CW9', '3BN3', '2H2B', '1J7V', '1CKL', '2HEV', '2HE7', '2OCP', '1DNQ', '2CT5', '2CTT', '3B84', '2HDE', '3KG5', '5MX0', '2O6L', '2QKH', '1M39', '2CU1', '2F3I', '2Q32', '6D6T', '1MKC', '1MH9', '4BB9', '2HI4', '2JRJ', '1D4B', '2V40', '1FZV', '6MHF', '3LLU', '1TFF', '4LOG', '1D4U', '2O95', '3LM0', '2CZH', '1FZA', '7OBX', '4Z1F', '7OB9', '1RKP', '1UM7', '8GSU', '121P', '5GLH', '1RJT', '3CKI', '2I50', '3ZD2', '6LCA', '1KFU', '5BPB', '4CHL', '2GL7', '3HXT', '1NY2', '1NYS', '1K1A', '3S8I', '3APA', '1RI9', '7XC0', '4ZK4', '4CFG', '4CGC', '3DAL', '2KVU', '4JO7', '3C3R', '2KWF', '6L93', '1LM5', '3QYE', '7X9B', '5INO', '1U5M', '1B56', '4QYL', '2L0Y', '2L08', '2LE3', '2BKA', '1RPM', '1Y6L', '1GH2', '1ESL', '2E9H', '1WLP', '2EO9', '5LGD', '1NB8', '5UJ7', '1I15', '6IGM', '6GJE', '2GUT', '2ENK', '2L34', '5UKE', '4QMI', '7DHG', '1YB5', '1P1A', '2KLL', '2IW2', '7SF7', '1LWZ', '2YRT', '6LTH', '6WBE', '5IUE', '2LKN', '2YS1', '1G26', '2RAI', '4AF3', '4DX1', '3MS6', '6WB3', '1IJT', '6WCV', '2K85', '1P0R', '2ECL', '3ZRH', '3ZQS', '7C4S', '7T5M', '3HM5', '4H87', '1N99', '2YSQ', '2YS0', '1Y8Q', '4A11', '4HOU', '7SGS', '1BXL', '6IIP', '5E4G', '6LYY', '1IGR', '1Y4E', '1UWY', '6Y4L', '7T8J', '2L35', '1YC0', '4CQO', '4FOM', '3AHQ', '4HC7', '1EQ3', '6LYN', '1WOJ', '1UTU', '3DWW', '2E8M', '2LFH', '4FLA', '7X9C', '5NKS', '1E31', '2W3C', '6R0X', '1B4R', '1IRS', '1KJ6', '1KIL', '1YWT', '1E3G', '4MJJ', '4MI0', '2G62', '1L9M', '3S6C', '2G76', '5KWY', '1WYP', '1BOE', '2N1I', '1RJB', '5Y1Z', '2YDX', '1PSB', '1WT6', '1BOR', '2YDO', '1KEX', '2N0Z', '3DLJ', '5OOL', '1D4T', '7P6R', '2AAV', '2Q3E', '6JLI', '4R30', '2A4J', '1XR9', '3E3B', '6XR0', '2Q1M', '1D5G', '3U9J', '1S8M', '1Z09', '2H31', '1HX1', '2VO1', '1DL9', '2OAY', '2CT4', '1SO8', '1S9I', '2HE6', '2A8I', '2V8S', '6DMB', '6M3G', '6FUF', '6ME6', '5DPR', '2OB4', '1FW1', '1DO5', '3G36', '2M96', '1XIR', '2DGR', '2M9W', '6QC0', '5CCB', '2ZN8', '1V04', '1DYN', '1QBK', '2C7S', '1AD6', '2DEZ', '2OVP', '1JX3', '2DHJ', '2DKQ', '2SHP', '2M41', '2CLS', '6AJ4', '8CRT', '2QS9', '2C9O', '1TQN', '2JDQ', '5J1S', '2DJB', '2DI8', '2DIY', '1CQT', '2Z7F', '8CSP', '1HAE', '3BUN', '1X23', '1XED', '8DWK', '1CP3', '7K7T', '1X0O', '4IGK', '1X2P', '2J2C', '3UVM', '1AJI', '1H4L', '1AKZ', '3ERY', '2DKS', '1Q8M', '2DK2', '1DUX', '1HA1', '1STF', '2CLQ', '3IFQ', '2DIL', '3PH9', '5ZBQ', '4P0J', '5AZW', '1ZR9', '3LUC', '3BXK', '3P0C', '4G1T', '4BYF', '3PG6', '7U0T', '1F45', '1JWH', '2MOE', '1SXE', '4PD3', '1SM2', '2CUD', '6THG', '1QU6', '6J6X', '1JCZ', '1DN3', '1MFG', '5ANR', '2DSB', '2QIC', '1J74', '4UM8', '2X7F', '1M12', '4KFM', '7URA', '5VMD', '2X6U', '7KX0', '1AQC', '5OA3', '2FJU', '5A9Q', '1HZM', '6ARQ', '2VAY', '2F1U', '7W3Z', '2A72', '3L8N', '5XOC', '1D4A', '1MJD', '1CFH', '4L9C', '2MV1', '3EG9', '3EGX', '7KTR', '2V6Z', '1D5R', '1C3T', '2Q3G', '1JMQ', '1T3N', '6BO8', '1BO1', '4CH9', '2KZU', '3M03', '7SQK', '2KXJ', '1BMO', '3S98', '3AQQ', '6LBF', '6RIR', '1YZQ', '6L6I', '6L53', '3AQF', '2I53', '2YHN', '1L8K', '1R0D', '6EDX', '7JSA', '2KW3', '4JMJ', '1KKQ', '3S7R', '5LPN', '4D4Z', '3C3Q', '5G4P', '1B41', '7CNU', '2LD4', '7ZCG', '2LDU', '6WLZ', '5ELI', '1N6U', '1NAV', '4AKV', '1YBW', '2K45', '2BIJ', '1N7F', '1IG1', '6WMI', '3DWB', '1YCS', '4ZRT', '2B0U', '1Y96', '6YLU', '3JUE', '4AGU', '1IK2', '2BEI', '6WCU', '1PFA', '2K86', '3MS5', '4DXS', '6WAJ', '1W72', '1G25', '4MPF', '2IWG', '6W7Z', '4DXR', '6UZT', '1P1T', '2EAQ', '1BZG', '2ECN', '4F7B', '1GEA', '1Y9V', '6LTJ', '2YQM', '7T6B', '2B05', '2YS3', '2E6R', '2NPS', '1PF6', '2E63', '1PKG', '1I0E', '2RMH', '1WMA', '3FOG', '6IGX', '7OX5', '1EQF', '2LGX', '2K44', '1GHQ', '3AJM', '1WMV', '1BUH', '1BW6', '1I2M', '6IGO', '2KBR', '1Y7J', '1RRP', '1W98', '2LR8', '7TXC', '1B4Q', '1EFX', '4CGV', '4CFE', '8EF5', '1KJC', '1B4F', '2LP0', '7ZWC', '4C2J', '1L8J', '1B68', '1UCH', '4J9D', '3DOE', '2ICC', '7XBW', '1RJA', '2I46', '1LBN', '3M0D', '1YZ1', '1WWX', '1K0P', '4MD4', '6YXQ', '2P8V', '6NYO', '1KGD', '1RJ7', '3CKK', '2KZ5', '4D8O', '1YZG', '6B9H', '5YDE', '4R2A', '1CEE', '7NJ0', '1JNK', '5F3B', '5MV9', '3B7X', '2HH2', '5MVX', '1XPD', '4U4P', '5O9H', '2F15', '2OOQ', '1DB1', '4U5T', '6MJL', '5VAQ', '1TG6', '1S9J', '1J4X', '4RH3', '1JAS', '2CT7', '2ALR', '2H32', '3RJD', '1MFQ', '7EUO', '2X7G', '2HD1', '2XA6', '6APX', '3UON', '2CUE', '2OC3', '5H07', '7PL4', '2DPX', '7EW1', '1APQ', '1J5K', '7EWP', '4YYP', '5TUV', '2CCH', '5JHO', '4UZQ', '4UZ0', '1DZA', '3UXG', '3P0U', '1A22', '2VYI', '3NO8', '7E7Z', '2JI4', '2C4K', '1AD5', '4YM4', '1DZ7', '3P3Y', '5T7C', '6AGF', '5DGO', '1SY6', '1QBH', '2CLP', '1HAQ', '6H42', '6O2U', '2QQ2', '2DIM', '2DJV', '2DK3', '2DKR', '1H6E', '1F87', '1JXQ', '1HCN', '1X3B', '2VT8', '1X2Q', '3BUM', '2DJA', '4LXL', '5J11', '5TL5', '7L3L', '5ZBG', '1F9E', '1AHW', '3RRU', '1F8A', '3EQ5', '4LZ2', '1QNK', '2CNX', '2AUG', '7LGC', '3LYR', '6CPI', '3GJ9', '2DK7', '1OGS', '8HCQ', '1OG2', '5FQD', '1DUJ', '1DV0', '7WRQ', '3GJO', '7KAA', '4UUZ', '4NC6', '2MAK', '2VWF', '4GEI', '5CBA', '1ZRJ', '1Q4K', '2DGU', '1OJ5', '1MR1', '6A3Z', '2M85', '2ZME', '7E7I', '1A3S', '1SYS', '4IKM', '4PED', '1FBV', '1ZSY', '1F68', '2XU7', '4GGA', '3KGR', '2VNS', '8ARF', '5O6C', '3NY1', '2CT3', '2CTR', '2AL7', '7WKD', '4RH7', '1M2Z', '4PSI', '1AP4', '3L4H', '1Z3S', '1M1V', '1TJT', '2HD5', '1ZIW', '2ABJ', '1T15', '2Q2F', '1HUP', '1JMT', '1T0P', '7P70', '1ZKH', '6HVB', '1MK3', '1TDH', '2JQ6', '1CGI', '5VBN', '1C1Y', '3WXV', '2CZY', '2OO4', '4EGC', '3WYR', '6C3O', '2JP2', '3HX3', '2ETT', '1NZN', '1K1G', '6KDE', '3MEK', '4DOH', '2I6L', '2P8E', '7FIG', '2RVQ', '1K11', '4AP8', '3AP1', '1EHW', '1EH6', '1PSR', '3DLM', '4CI8', '1UM1', '1LCY', '7ZW1', '2G59', '1B50', '2WDP', '1EGX', '4J82', '4MHE', '4J8S', '1UAD', '2KV2', '4XRS', '1BC7', '7CYN', '1U6G', '7Q0B', '7F09', '1BBR', '2KW6', '1WYW', '1UA2', '2K40', '5IY6', '10GS', '7OX1', '7T9I', '4CRS', '6NCE', '4DWN', '1GJJ', '6Y7G', '6IGK', '4XEM', '7QQL', '4V2A', '3AGY', '1LUT', '7Z8B', '4A0D', '3F6K', '1GGZ', '2YRE', '1LV9', '1G0Y', '1LVX', '2KN4', '6W4S', '1WAQ', '6II6', '2E73', '1Y9R', '2K9A', '7JHX', '1UY5', '2IW5', '2B1U', '4AE8', '3H8N', '5B2G', '2E4H', '2E72', '6LW5', '7CC7', '6G0Q', '2E6W', '2NSM', '1G0X', '1LUB', '6GFA', '1YO5', '7MNI', '5U2J', '5GZB', '7D2S', '7ML7', '4QAM', '4XI9', '2RCQ', '1WM2', '1WMS', '7M4M', '1Y5P', '2LD0', '1LYA', '7Z6H', '7QS3', '3JXF', '1UWH', '2KBW', '2L33', '6Y5N', '6I33', '2K4P', '1Y7X', '2E9X', '2L27', '1U7B', '4JNU', '1BBS', '1ISF', '4JNB', '7MU5', '7A6H', '5LRU', '3QYB', '7MT1', '2P6X', '2G6B', '4C2X', '3MDY', '6WVG', '2P82', '1LC9', '1WVN', '2EWY', '1YZB', '2N19', '1GQV', '6K2C', '6LAN', '4Z2M', '2PNT', '1K1F', '7A8T', '4ZEY', '4APO', '3D85', '7TVZ', '2XMQ', '2ACX', '2V53', '5F19', '3EFO', '5CYJ', '3WXW', '1FYJ', '2MUX', '1FXY', '2V5E', '6C0B', '3RGF', '2FF3', '2FEI', '3EDG', '1XQR', '1MIL', '1C25', '6OQA', '5O9Z', '2MYL', '3RK3', '1ARK', '1AQ1', '2V90', '3EH2', '1AP5', '1FVR', '1SNL', '1HYR', '2OBD', '7YFM', '2CT2', '4WV4', '7KYQ', '6APJ', '4BZY', '1ZSX', '2C60', '6VG8', '2JK9', '8AGF', '5JJ4', '1A27', '1A1M', '1MRQ', '2DGT', '1Q70', '6SWG', '1FLK', '1FO1', '1HBX', '5M72', '2MB0', '2VUX', '5VTB', '2DJS', '4N6J', '1JY1', '4PHU', '1DT9', '2J3T', '2Z62', '2VWR', '2XZZ', '4N6H', '2J1I', '2QQ5', '6DUW', '3PJA', '5ZCS', '1CS9', '2DK4', '4ERV', '1JXV', '3UVK', '1FLI', '1CQP', '7L0P', '2JE0', '1AH1', '2MNG', '3NOI', '2OVC', '1A31', '5T6W', '4W7Y', '1JUQ', '1XKI', '3N9Y', '5AX8', '2DGV', '1OJ6', '2MOC', '3P1A', '3UYS', '3BYI', '6V0O', '6FCX', '4P22', '2C7W', '1Q7D', '1A2C', '1A1X', '1J7D', '1MDI', '6SO5', '1Z2C', '3NY2', '2DSS', '1VR2', '2HGL', '7EVS', '1J72', '2ALB', '3BLH', '8AR3', '6ME2', '1FV1', '1D8D', '3GQQ', '3EI4', '1ZKK', '7PB8', '2Q0Z', '7P4I', '4EDL', '1T2L', '2CY7', '3E0J', '5A4P', '1OQJ', '1D7K', '1CDF', '3U5M', '6FYV', '1S4J', '1OP8', '6C0W', '3B4D', '3EGI', '4NTJ', '2O8B', '2A5J', '6D6Q', '1FXL', '1C1Z', '7WF6', '6S7O', '1CDQ', '7VOX', '1EIG', '6WW7', '2BRQ', '1LAR', '6B9X', '2Y1W', '5N06', '5GNR', '1PQN', '2BRF', '1GQ5', '7CUN', '1UL6', '4J81', '1B47', '2P4E', '2WGH', '2I96', '3CEG', '1U76', '7CYZ', '5G53', '7X9G', '1UAP', '1EFH', '1RF3', '1U6D', '1WXP', '1YU9', '8EGW', '4X1V', '4O2W', '2K6M', '5GVC', '3OG4', '3DWD', '4AJ5', '1BU9', '3CPF', '3VHX', '1PK6', '2BKD', '1BUO', '2RMX', '2EMB', '4H4F', '1WL4', '7QS1', '1I10', '3OHM', '2K9U', '7S3O', '4HMY', '7CCC', '2EBM', '1UYA', '3A1J', '3HLT', '6BX7', '1KSQ', '4DY0', '3MQM', '5U1D', '1W7B', '2EBZ', '2B1W', '4OKH', '1WAR', '2E5N', '5GXH', '2R5T', '2IVS', '1KSG', '2E5O', '2YRP', '1GD5', '2YQK', '1LU7', '4MQE', '1YNS', '1IKT', '3H8Z', '7ZMK', '2EA6', '2EBL', '4H8S', '1YOW', '2EAW', '5YQ4', '1G2S', '1N4M', '5KC8', '3VH8', '3F8U', '5L3X', '3CQC', '1Y5D', '1BUY', '2PV0', '1LXQ', '4F99', '2ENO', '4HTM', '7AAH', '4XPN', '1BAK', '3QX3', '2PBC', '3CEQ', '1RGW', '2G7R', '1RG6', '5KUT', '2W18', '2KTY', '4C0D', '5Y22', '1GQ4', '2G9N', '2KZ3', '7X5E', '2N1L', '3SO8', '6BNM', '2WH0', '1RKC', '4JA8', '1SA6', '1T2Z', '4RED', '1MI9', '2QGX', '5CZR', '1TEN', '6C0V', '3U7D', '1C3D', '1JMA', '3REZ', '1D5U', '2QEP', '1TEY', '5HK1', '1HU3', '1HUR', '1JM7', '1FUJ', '3K2L', '3BOR', '1CJL', '1CI6', '3RKQ', '3EH1', '7PMW', '7BP5', '6D9H', '3WUS', '6CKV', '2HDA', '1MGS', '2HQW', '1FAO', '1A2B', '2D11', '3BXL', '1V1C', '1SYQ', '2OUN', '3BYH', '4GDX', '1HMC', '7EB6', '7EAL', '2DFD', '2C63', '5TBY', '1F42', '1XIW', '2DGW', '3G33', '1JWO', '1A3Q', '1FCG', '1DXX', '2D39', '2D3X', '1AKJ', '2DHX', '5J03', '1X3S', '4N7Z', '1X0H', '1QMV', '3UVJ', '2COZ', '3IEZ', '1CQ0', '1AIU', '2DK5', '6X0V', '2MBE', '2COM', '1F95', '2DKY', '1Q8G', '1XFB', '1X03', '7WQ3', '7WSM', '5QQQ', '3ES6', '7KBU', '4LZX', '6TPK', '1FLE', '2AW2', '2COW', '3LXN', '2JGB', '7RM9', '2DI0', '4WMQ', '6HL5', '5XTC', '1AGS', '3PFN', '5VYK', '2C46', '1FAU', '6OHM', '2JKV', '3N9U', '1XJV', '1A15', '1QBC', '1A3K', '1F67', '2C5D', '2CU8', '4B90', '1FU1', '5X6V', '1DMT', '2HEH', '1J42', '6JBJ', '2XB1', '1DOK', '5FJV', '5HDE', '2MZN', '3K1Z', '3K2A', '3LB6', '6ZEE', '3L4G', '2FHW', '5XAU', '5ZYQ', '2FI2', '3L6X', '4L6Q', '1HYK', '2MWI', '4NUU', '6T1R', '1CF4', '7PB4', '2MVM', '2ZV6', '1MHQ', '1OPU', '2OME', '5N2S', '6WWZ', '1RI0', '1EJP', '1K36', '1EHO', '6UMA', '2I4K', '2BQ0', '4DN5', '3FVY', '2ETL', '5URY', '1BOZ', '2PMV', '1UND', '2I5O', '1B6E', '3TDU', '1U5D', '3FY7', '2KUP', '1YUC', '6KKR', '1LL8', '1E1G', '1WYO', '6R15', '7CXR', '3MJK', '1U5S', '1NUN', '3T1I', '2GAO', '1WYX', '1IRL', '3J8B', '7XMS', '4CPC', '1WOU', '2KA4', '6YBT', '5L2Q', '6WNX', '1ESR', '1N6H', '6N5Z', '3X1S', '7QPG', '3Q90', '3HAH', '2L0P', '4ZRI', '1BX2', '3A1F', '2BEC', '1Y8N', '2YQQ', '2BDG', '4DX8', '2LJ5', '1YLA', '2KLR', '1BYW', '1BY6', '3HO5', '5NP0', '1G3M', '1IKN', '5IVW', '1G13', '1P22', '2EAM', '2YQG', '2EBW', '2KLD', '3SYX', '3DZ8', '2YSX', '1KPP', '2E7K', '4JUP', '1BY7', '4MSV', '2GZD', '2ECD', '1IK9', '2LK0', '1PFJ', '3H9R', '2E6O', '6UUQ', '3Q91', '1BV8', '2KB9', '1WLX', '2KBX', '1NB0', '3JZA', '1WMK', '1Y76', '5GT0', '2PA5', '1R21', '1YTQ', '1WY8', '3OP0', '5W21', '3TGX', '6BC0', '2G6Z', '3DAD', '5LSI', '1BC9', '4ZJ8', '1WYN', '7CX2', '6E25', '1U4A', '4JOI', '2LSW', '1WVA', '1YXR', '2Y0I', '7OBP', '7VL8', '5KZW', '1PRX', '7TUY', '1EJF', '4J5M', '2GLI', '2N16', '1YZM', '6B8Q', '1K0M', '5YFG', '6RKF', '1KEF', '1EKU', '1L4T', '2YD0', '2YDQ', '1RJK', '4MEL', '1J8F', '4WY4', '3IQ2', '4RGW', '1JLI', '6CDU', '5O9B', '3NVQ', '1XR0', '1D7Q', '4WXQ', '5CXV', '2F37', '4B6H', '3E0G', '1QZ2', '1FYR', '2ZW3', '6HTS', '4R3O', '2FDB', '2A7O', '4BN2', '1S9W', '6DO5', '1Z0F', '2CV5', '1M3G', '1JCQ', '3RIB', '6M04', '5CUF', '2FH7', '1HZF', '1M31', '3ULH', '4GQB', '1Z00', '2MXP', '2HEI', '1CKS', '1A00', '3LTL', '1ZS6', '3GGF', '1XKS', '3KQ0', '1F66', '1OKI', '1MPV', '3W6N', '1OIV', '5ZLQ', '2JJD', '5JI7', '1A1U', '2ZOC', '2XVT', '7K95', '1MSZ', '2JIH', '1VD2', '2C47', '2JJS', '5XTB', '2ZOT', '1A28', '2D1K', '6X23', '2DIP', '3EPZ', '4BTJ', '4BWQ', '1CSB', '6HCZ', '4N7V', '3I2B', '1DTW', '4IFS', '2J1D', '7UKH', '2DIG', '1XGG', '1AIN', '7L0J', '1X3H', '6OFP', '1FM6', '1H4R', '3RSN', '4YC7', '3IEC', '1X2N', '2AWG', '1DT4', '1HCF', '5QSM', '7K7J', '1SUK', '6SUB', '4BWD', '3W81', '4ERN', '1QM9', '4PJ1', '2M5H', '1XF7', '2JK4', '6A3V', '2ZNR', '1HNA', '2XV7', '5HQG', '8AFO', '6OIJ', '1H9U', '2DGY', '3IIW', '6ZPG', '1A02', '2VX3', '1HLI', '3UX9', '1A1W', '1V27', '3N8E', '2HRB', '1ZR0', '1MQ1', '4B87', '4NXQ', '6DLZ', '1AS4', '1J55', '2FK9', '4B93', '2CVA', '7BR3', '5X6U', '6J74', '2DQ5', '2A8B', '2FH5', '5VNA', '4YYX', '1APY', '2H06', '4EGX', '1T3G', '1C0F', '4UAD', '1CF7', '7EZH', '1TE6', '2JPH', '3L81', '2V76', '3BCH', '8D7H', '3R2W', '2JSD', '2FE2', '1CFA', '4R3Z', '5MW5', '7AL7', '1UMK', '4D9T', '7DRT', '1BMQ', '2PN8', '2I7D', '5EWJ', '7TWD', '3J7Y', '1GSD', '1B8M', '3HYM', '2N3J', '2KXC', '5I7Z', '2WJW', '3CFS', '3TE3', '6IR0', '1WYL', '2EZD', '6U6U', '1UC6', '1R3A', '2WGP', '1KI1', '1UBD', '3C3O', '1YWH', '1NW3', '6ISB', '6B5C', '5IN3', '2WFT', '3O2Q', '2LEO', '2K58', '4JZJ', '1GK4', '1ES0', '5L23', '1PI1', '2KAV', '7Z5I', '1NBD', '4CRH', '2RNL', '1I0Z', '4FO0', '6UUS', '2BIT', '4DVQ', '1WLZ', '2ELI', '2L2L', '2B2T', '2KLQ', '1YO8', '2YQR', '2LK2', '2EBU', '2B19', '3HMH', '2EAN', '3OHU', '1KPR', '2YPA', '3MQ4', '3Q4T', '1BXF', '1LV4', '7JJK', '3JWR', '2EC1', '1UZC', '2EBT', '2RA4', '1BZY', '1NOU', '6G18', '1W7L', '2E56', '4ZRK', '1BY4', '1BZN', '1WBP', '1WAK', '4JVH', '4JUS', '6G2U', '3OES', '2GW6', '2LE8', '7ZA1', '1GKC', '3H53', '1W9G', '3FM0', '2EOD', '1WMH', '1N6J', '1GK5', '3VI3', '2E8P', '3AIH', '5LSJ', '1E07', '2P5X', '1KHU', '2YHF', '7TZB', '6B4F', '5NJJ', '2EYI', '1UCV', '1EG4', '1EDN', '6YW6', '1WZV', '6U4K', '2ILR', '7O86', '1BAS', '2I4I', '5GOX', '7TVA', '3THC', '4Z33', '3QWE', '1K3B', '4APC', '1YYB', '5BQM', '6LBN', '1BMP', '1BNK', '3B6U', '1HTN', '1C15', '1JLJ', '1T0J', '5JPW', '7YJ4', '3R27', '8D43', '6FXK', '2V4M', '1OQD', '2X9E', '1CDH', '2A7L', '1QZP', '2CYX', '7WE4', '2VAF', '3UAL', '2VC8', '1TEV', '1MHD', '2X8A', '6HVO', '4UAE', '1D8J', '2O61', '1FTA', '1DLE', '1HYI', '2DRN', '1D9N', '3L43', '2XC7', '7WH3', '1SO2', '1M1L', '1HLH', '1A17', '1MQ0', '7B00', '5D2M', '3GGE', '1VEC', '2VXS', '1JV2', '1H95', '1F59', '3UYJ', '2ZNS', '1FCH', '1DUG', '5C8H', '2QRV', '5QQD', '3I2V', '3WO3', '2Z5D', '3IF8', '2DID', '7LF8', '2AWF', '3I33', '2XZG', '1XGW', '1XEH', '4PJU', '2COF', '1X2K', '6CQD', '1FLT', '1AII', '1H4W', '1XFD', '1H6H', '2J0G', '5JKN', '1A07', '1H8C', '7U21', '1XK5', '1XKT', '3KRM', '6SXW', '3IKM', '4UXT', '1MQ4', '1F4O', '1HLL', '8F7X', '2DF9', '4WB9', '5XTE', '5VZV', '1MR8', '1MQB', '4BX8', '4G31', '1ZQ9', '2AZE', '1SZ7', '1J78', '3U86', '5MZV', '2O71', '2H2M', '2CUH', '2ANW', '5DSG', '1Z0A', '4NXT', '7EVN', '3K35', '1M36', '5ZXD', '6SCJ', '1JMJ', '3LLM', '5A63', '5A6R', '4IP8', '7NHT', '1HTJ', '6SA4', '1TGZ', '2A4D', '6HVK', '1TFI', '2JS7', '2OM5', '2XN4', '2MT5', '5OL8', '1XQZ', '1CDL', '5VAK', '4ZGY', '6EI2', '1LB5', '1NZP', '4D90', '1LCG', '1GR3', '6BLY', '1BL1', '2GL8', '1YTV', '2ILA', '2PA2', '1E17', '1IRJ', '3D66', '2I8N', '2WFQ', '8E27', '4MHL', '5NJ8', '4C0O', '1KJY', '1IPB', '1B59', '1B6C', '3S4E', '4JLU', '4JON', '1WXM', '5I81', '1GKG', '5E8J', '3DW8', '4H7W', '5UJ8', '2ELL', '2L2I', '2GW2', '2L0A', '5WRJ', '6NAS', '4X09', '1W9C', '5EL3', '5KAZ', '1II6', '3JUI', '1YOK', '2EB1', '2IVX', '1LUJ', '1LVQ', '1KPW', '2YPD', '3MQP', '3MRK', '1PDR', '1BYQ', '4XHT', '2B3U', '2ECC', '7SD0', '1N83', '2B0O', '2ECB', '2E5R', '3OJY', '2NS2', '4HNI', '2E7M', '1BY1', '3V2W', '4XIF', '4ZRY', '1G3J', '2IV8', '2B0X', '2E5E', '3Q5U', '7XUR', '1W4R', '5LJM', '2EBQ', '7SFX', '3A03', '1BYG', '3V32', '4TSE', '2KBI', '2K7B', '1Y7Q', '3VHS', '1N4P', '3VI6', '3H7H', '5EMW', '6ERO', '6BW3', '6YBD', '6WLW', '1W80', '6WM2', '2K60', '4X1J', '7QQD', '3FLG', '5LFN', '5BKF', '3DTC', '2LSQ', '4HT1', '1BCI', '7QDR', '2KWH', '1WYH', '6NTS', '3ZKE', '6NT2', '7F2O', '1B6U', '5W3R', '1B64', '7TZG', '3T1N', '1E0S', '1EGG', '1PQ3', '2KY5', '2KYT', '1WWT', '5NDD', '6EIE', '6PSD', '2EU9', '2N0B', '7OBA', '5GLF', '7DPX', '1LB4', '1WWC', '3JCR', '2EW1', '6U8Z', '1UNC', '2N04', '1BNY', '3S95', '3ZGQ', '3CI9', '1QZU', '2MWN', '5V7Z', '4REY', '5ZTF', '7PC7', '2JRS', '2QFA', '2V66', '6MKS', '1T09', '2CXY', '1FYC', '4EFO', '2ABU', '1CDZ', '4YVD', '7EXD', '6HUF', '6DC0', '3EDY', '3E1R', '2MX7', '2H0D', '1S8B', '3L46', '1APJ', '3PP2', '1M1I', '4GQS', '2VM6', '2HE9', '5CTD', '4UNO', '6DO3', '1VD4', '2C4P', '4BX9', '2M9X', '1H8U', '1OHC', '5AX3', '3GG6', '1ADX', '4BXO', '4Y83', '1A12', '2AXL', '1XHN', '7U20', '1MP1', '1H8B', '3RQ4', '4NAW', '7WQ4', '5Z62', '6OF7', '4PKG', '1QO5', '2MA5', '2ATX', '7RNS', '2C9W', '6AHR', '1DV8', '2OXC', '4EPU', '2MB9', '1X1F', '4GIW', '7E9H', '6AKK', '6F8F', '4I0P', '2DIT', '1VIG', '2M7Q', '4WNO', '2QQJ', '3WO4', '3EQM', '1AK4', '1H5P', '3GHM', '2COE', '2MA7', '6AGH', '3P0L', '6H9M', '2D1X', '6QAT', '1ADZ', '3II0', '3GD8', '3KQ4', '2CCQ', '7YR5', '2D3G', '1JUO', '7BGB', '2XWT', '6FBB', '1XJD', '2JIL', '2OVJ', '1V0X', '2AXY', '2X57', '4WTV', '5V8W', '5HES', '5HDW', '1DO8', '1JBQ', '5ZYT', '3WWS', '2VN8', '7BRT', '6JAT', '1CD9', '6FZS', '5VBD', '1MI1', '3B6R', '3R0N', '1HTI', '7LPS', '1HUM', '2HKF', '1CFG', '1XQ8', '7PC5', '2A41', '2V70', '1FYV', '4B6L', '4B4S', '2Q3H', '2A55', '2EW3', '2IAE', '5YGP', '4Z34', '7ZX4', '6WTS', '4DOU', '2I6Q', '2BP1', '1B8K', '5I6X', '5UQ1', '2N1D', '2BR9', '1EJ4', '1U8F', '2EVA', '2KX3', '1BNL', '1NVP', '5YKS', '7X9Y', '1YVJ', '1B72', '1LO1', '8B6L', '1EEM', '1EFV', '3D59', '2G47', '3QXM', '1BA5', '1BBO', '1YA5', '2IZX', '2KCX', '2GVT', '2ENP', '2LFE', '2E9S', '5GWN', '5GTU', '2EOC', '1UW5', '1I2T', '5WRI', '2RMF', '6Y5E', '2L0B', '4JZL', '3Q4S', '7CBY', '4DYO', '7ZL1', '1P0I', '3FBY', '4AFI', '1P27', '5B1W', '2K89', '2E5P', '2LK4', '4V11', '3QBT', '2KNH', '3JVF', '1UZS', '4F52', '3HM8', '1BZI', '1IJ9', '2YRO', '1N9U', '2E7O', '2E45', '2NRU', '1BY2', '4ZP3', '2IWI', '2KL7', '2KOM', '2YRN', '2YSJ', '2LKT', '7XTB', '2E50', '5R68', '6N88', '2GZV', '1PDG', '5YPO', '1LV2', '1P32', '2ECV', '2GU8', '1UV0', '2RMG', '3QOR', '6IF2', '1ES7', '2LEH', '2LGW', '2WQZ', '4QMD', '1I1N', '1UW4', '2EL8', '3HBW', '2ENQ', '3AJB', '2WQM', '2L11', '2IYB', '5WQD', '1BWX', '2KT1', '1BBN', '1NTY', '3QXL', '2W0T', '1LM8', '1UCP', '4CGY', '2YHW', '2WFD', '1L8R', '5WDE', '1BBY', '2IMG', '1WX9', '7F16', '3D4J', '3CJW', '3SOP', '7O7I', '1BM7', '2KY6', '1BLR', '5WIU', '3ASW', '1EKG', '1RHF', '5YF4', '6L6P', '3SM9', '2I7T', '5Y2Z', '2ZV2', '1ZKC', '2FFX', '6DCE', '1D6G', '2A40', '2JQK', '1S4B', '1QYM', '1FYW', '5V4B', '2AC3', '4L9M', '1C07', '1HUL', '1J8C', '1MHU', '1CFF', '4NWY', '5ONS', '3EGA', '2O8J', '3B76', '6QZH', '5OO6', '3B5H', '6JLE', '6MIX', '2ABV', '3E04', '5DRV', '2CWB', '2HGS', '2HF6', '2A83', '1CK7', '3RIP', '7BRU', '2VN9', '2MX4', '3WUZ', '3U84', '3L4C', '3LBS', '2VM5', '6J6V', '3LWE', '2ZOQ', '2C7H', '2M8H', '2DFM', '3P1I', '7BDX', '1Q7L', '2DJY', '1FL7', '2MA6', '2MAW', '7EMF', '2DJN', '7UKZ', '2XZE', '6OFB', '1QND', '1CSG', '4YAY', '1SP1', '1A8X', '7LBG', '1A89', '2JBM', '2JAV', '8H0V', '2VRF', '2D9U', '2MDK', '6H02', '1QK9', '1TUZ', '1H0Z', '1MZW', '2DO3', '2M1W', '2HYE', '4I5M', '2D9B', '1DQ8', '2XRI', '6Q2N', '5J9S', '1TZ4', '2DAY', '1AAP', '1CXP', '7RD5', '2JM4', '1O86', '5DAG', '5HTK', '2HWY', '7U7N', '1A5H', '2MKD', '1CM0', '4UI9', '1J3T', '1M6I', '3BIK', '2AHE', '2CSZ', '1M7M', '2X19', '2QM4', '5XFR', '2JXC', '3R85', '2CQ3', '4L0R', '5XG7', '5F4Y', '6ZMM', '3E7A', '5AFP', '1XWH', '6Z9U', '1C7U', '2F69', '4U2X', '1JH5', '1CCZ', '6Z80', '1UIT', '1BJ4', '3TNU', '1GTW', '4M4Z', '3MAX', '2BVA', '1RN7', '2IF1', '3FRR', '2N6F', '1UHP', '2GK9', '2Y4T', '2IDX', '1PWA', '4M6R', '1IYH', '1L3E', '2UVL', '4DJH', '2EPP', '6KCZ', '1LFN', '4C7N', '2G35', '1B0F', '2UZ9', '1B2Y', '2KR6', '3C59', '4CCA', '2W4L', '4S0V', '2PFR', '1KNT', '1B3J', '1GXC', '3MOS', '7Q4Q', '2NYT', '1RW5', '2YYN', '1IA8', '1NDD', '1WJM', '1WHR', '6Y3C', '6Y09', '1P8D', '1WH3', '5UN5', '1EU0', '1PN5', '2NXP', '1RV1', '1YGR', '1G8I', '4AOW', '5L5A', '2E3V', '3A7E', '2EEF', '6KUW', '2NT2', '5KJX', '6YIP', '1KTZ', '2LMD', '1EXA', '5U6O', '1KV3', '2WX3', '6G5G', '1WF8', '7SA9', '2EDU', '3CXB', '1NI4', '1P4Q', '7D72', '6YKY', '2KHX', '3A7S', '1YK1', '3HI7', '2RF0', '7SC0', '6IOM', '1PBV', '2LMR', '3Q2C', '2YUL', '2KKT', '2EEG', '4H1S', '2L5I', '5BNX', '2PPI', '1NE7', '2BMJ', '2BOU', '5GRE', '2RII', '1P97', '7DL2', '5U9A', '4DPG', '2B9R', '2L4Z', '1GYF', '1RAX', '1R42', '2KQZ', '4D0Z', '2GD7', '4CAH', '2P39', '4JHN', '1B1C', '2UZ8', '1BG2', '3SE4', '5UZP', '5LTY', '4XW3', '6LHM', '2WCY', '2NMP', '7ZRF', '4C45', '2I0V', '1UJY', '1BIX', '2W8N', '1BIO', '2ERY', '5NAZ', '7QN5', '6WQX', '2LYW', '5ERP', '3MCF', '1ELR', '4PYP', '1JH4', '7LW1', '8D1I', '7P2P', '1T5Q', '5MP0', '3IWP', '1MMH', '3RBF', '3U21', '7W53', '2HLE', '1DGB', '2XJY', '3BGV', '1JK8', '3RBQ', '1D0A', '6DEC', '5H8T', '5AEJ', '6Z9C', '2FAZ', '1DGU', '1M91', '1HRY', '1T78', '5FBH', '2AI6', '3BH8', '2CRH', '1C9H', '1OZ5', '1J2F', '7RR9', '2FN4', '4WRQ', '1JFI', '3R90', '2CPW', '2AHS', '1SI2', '1TOU', '2X18', '1OZC', '1J1J', '1OYX', '1AUT', '1M6H', '1ONQ', '1F05', '3EZZ', '2OSA', '2J9L', '2FZP', '1ZTP', '6FD3', '2C0J', '2C30', '2MJV', '2MJ7', '6AAX', '5XQZ', '1CYU', '2QYF', '4NKQ', '2DAX', '3KUZ', '4I5L', '3ICU', '7K3C', '5HZV', '2D9C', '2CH0', '8HDO', '2M0R', '2DN6', '2VRG', '1DPK', '3BRW', '1X61', '7WWP', '2VRE', '2MGS', '7UN3', '4KX7', '1SQW', '4NFT', '2JA4', '6SPZ', '2DMY', '1X63', '3I7O', '1QKL', '4WHJ', '1AOX', '2DNU', '1ZXQ', '2M0P', '1CV9', '2VSV', '1X6E', '2J67', '6ZV2', '2MKP', '2XSN', '3GA1', '1AA2', '2XQQ', '1A7C', '2MIO', '2FXM', '1OLL', '2DAM', '2DB7', '1ZT3', '5C13', '1AWI', '6C95', '5AJ1', '6XZ3', '6ZBV', '3UKM', '1M4U', '5X07', '4PW8', '1T8C', '4IYP', '7RRM', '2XDG', '4EMO', '1T91', '2CQ0', '2CQQ', '4PWN', '3ELB', '1XV9', '3NRX', '2MS7', '3NR9', '3LKX', '1C4Z', '1JID', '5ZQZ', '3U23', '1ZMP', '2AE7', '1M8A', '8D35', '2MRE', '7Y89', '3B0W', '3SI5', '1BHI', '1UKH', '3DJU', '6UKA', '1KCG', '4Z79', '12CA', '2LY4', '2NAQ', '6WQZ', '4CO7', '2WM1', '1RM8', '1KAO', '1GWX', '2N77', '4J0W', '1UGK', '3DEM', '2W4O', '1EA6', '1EAW', '1GZH', '7JT9', '2IK5', '2KSP', '5LTL', '3C6W', '2GD5', '1YRP', '5IJN', '3OVP', '3MOP', '6KXS', '1BRP', '2GRY', '3DPL', '1P9C', '5K26', '2KG4', '1N26', '3TT9', '1BPX', '4H10', '2B9G', '2L7T', '1P95', '3SPA', '1I4F', '2RJP', '2K2I', '1PB5', '3A7F', '1WFM', '2B6H', '2YUN', '1EXU', '7CGP', '2LNK', '3F02', '1W24', '2EGM', '2ED7', '3V6O', '1G5M', '1LSL', '3V4P', '3A7Q', '3AAA', '4X90', '3TZD', '2EE2', '4CYM', '2REI', '1IMO', '2R0B', '1PCF', '3MTL', '2WZO', '1ILK', '2L9I', '2KK6', '2LM0', '1EXT', '1IM9', '2R2J', '1W2C', '4JS1', '2LON', '1PBU', '1WD2', '1G9O', '2RJQ', '2L4N', '3MXO', '7D8H', '3VM8', '5EKF', '2EKO', '6N3L', '3SQD', '1WI5', '1I7K', '3SP6', '7VPW', '5L7K', '3ALP', '2LCM', '3H2U', '3VOQ', '4ZYO', '2RKB', '2EKX', '1UPT', '3SDE', '1K8F', '2KRB', '1LIT', '1E4J', '2P0W', '2NMS', '4OTP', '1BF5', '2IIJ', '4JKV', '3MMY', '1EBM', '1IYJ', '5Y7D', '3M5B', '1LD2', '6KAG', '1LE6', '1WPA', '5LXN', '7OD1', '1GTU', '1EL0', '1L1O', '6RLB', '4ZAI', '1GVJ', '3COI', '2AGH', '6XTX', '8D3U', '2QA5', '1OW1', '1XTQ', '2A1X', '2JUF', '1S35', '5HN1', '2AFL', '5SYN', '2VGE', '1M92', '2OIL', '2OJW', '2HLQ', '2A25', '4NS5', '3PZ7', '1ZMF', '2FCF', '2F57', '2Q6W', '6CCF', '1JEQ', '2CP5', '7UWF', '2FMM', '4LGD', '1ZCM', '1J2E', '3GUC', '2CQ1', '1JGN', '1Z60', '1SHT', '1SKO', '2OF5', '2Q8K', '8ATH', '3IY9', '1TNR', '5XGC', '1CZZ', '1F2H', '2MKF', '1A6Q', '6A69', '6V6B', '2DC2', '1OLZ', '6VAA', '1A4Y', '2CFY', '1Q3A', '1TXH', '5CEK', '1MUZ', '6O6W', '2M0Q', '2DNT', '4GOS', '1A8M', '1O5E', '2VSW', '2VR2', '5HYN', '2DO1', '4BPU', '6H0F', '3BRT', '3BQO', '3I7N', '1X62', '2D9W', '2VRD', '3P8C', '1FJ2', '1ALU', '8FHD', '4BSJ', '2DO5', '3EUE', '6AO5', '4GO6', '2M04', '2DNP', '5VPA', '4URT', '1OC0', '7RHQ', '3EVI', '2DOC', '4YEP', '6FIE', '1H2T', '1OA8', '2D86', '1QH3', '1DS6', '1AM4', '4WJG', '1CVJ', '2HXP', '3GLR', '7RJN', '7E1T', '2XPG', '1FEX', '3G73', '3I8E', '1HJO', '4WFS', '1F16', '2DB2', '3KUJ', '7E2X', '1A5Y', '1A7F', '6F2R', '1TZS', '7KHD', '1T94', '4EN0', '6M4N', '1AUD', '3E9L', '1DKF', '1FSB', '2CQC', '1AWL', '6C90', '1JEB', '5FMW', '1AXC', '1S31', '4LHX', '1XWN', '1JI7', '8D30', '6CAJ', '1DFV', '3BG0', '1T5A', '2FCB', '3RC3', '1AYP', '2QAG', '4NSP', '6VYC', '1DG3', '3MB3', '2BV1', '4COS', '2PK2', '2N72', '5NB0', '2EQR', '4M6T', '5W9S', '5N5R', '2LXT', '2PKD', '2EPA', '2IF7', '2EQE', '1WRM', '3SH4', '4Z6Y', '2I2Y', '1LI1', '1BD9', '1NSK', '6BFN', '1GXE', '2P0D', '5IKO', '6E7K', '1R79', '1E6F', '1K8U', '4D1N', '5LUZ', '7VDV', '3AY4', '1GXR', '2P02', '2EKK', '7SL8', '1ICW', '1N0Z', '6BQ1', '1IB2', '2BOR', '2L5Y', '2L58', '6BQG', '1WI1', '2KDK', '2L7F', '3A6P', '4ACR', '1KWP', '1GAG', '3OMH', '2E19', '3CXD', '6WG3', '4A4F', '2EFL', '1WGL', '4OM7', '1YJD', '2L9Z', '1RZ4', '2E1O', '5U7Z', '1W09', '3ABH', '3MWD', '1W3B', '2NUP', '2E30', '2YVQ', '3Q2E', '2YUJ', '2KKR', '1WER', '3HHC', '7SCW', '1WGM', '4XNV', '4Q3H', '2R15', '3F1S', '2EE7', '1NI2', '2KIZ', '3A60', '4A69', '3F0W', '1EWI', '7CK6', '7CKW', '6URG', '2LA6', '7VSI', '6WI9', '5K22', '2EJY', '2EJ8', '1UPQ', '4OBO', '2K2M', '1ETE', '1WHB', '2EH0', '6GML', '2WVI', '2K03', '1UEP', '2GF9', '2PE8', '7MRZ', '3AY5', '5IHB', '6YSN', '2G1L', '4HPL', '4C57', '6B26', '5WAI', '3VZB', '6K8J', '1KO6', '6LI9', '1B2I', '1IW2', '5II0', '5N9G', '1NRN', '1BD8', '1WQ6', '5Y4M', '2LXU', '1RMJ', '1UKL', '4XZS', '5NB1', '2N73', '1E9H', '2RR3', '5YBJ', '4DKK', '6UHI', '4C9B', '8E92', '1K5D', '2ESL', '1ZLG', '1VZP', '3ECI', '1CA4', '2F4W', '1DFW', '1D0G', '1ZMC', '7KSO', '5XJV', '2JTG', '7W55', '1S1N', '3E6U', '1C5M', '2JVX', '1XU1', '1D01', '1J3S', '5VKJ', '3GTU', '1C9Y', '1C98', '4GVC', '2CR8', '3BHH', '2JYW', '1CL3', '6M49', '1J1L', '2DVW', '1AUE', '2Q8Y', '4EOT', '1T8P', '2CPQ', '1Z6C', '2H7T', '2CRN', '2CQ4', '1JDP', '2FO6', '1X9N', '1HIB', '3W3G', '1TYI', '7RDS', '3KT9', '5CEN', '4RZ9', '2XQB', '5JLH', '4LSD', '6X91', '6V4X', '2DAI', '3EYG', '2OSG', '1FHI', '4Y2E', '2APD', '1X6V', '5JCG', '1X67', '1X5M', '2D87', '2FUY', '1H30', '1H24', '6A93', '2DL8', '1X4I', '2D93', '3BPN', '1X5Z', '5FUG', '2VPI', '6H05', '1HE7', '2DNQ', '6SSR', '2M3O', '2DO4', '4I5J', '1ALG', '5JBT', '1V9V', '6X5Q', '1X59', '2D9G', '3NFL', '2J4O', '1V95', '1A9N', '1HDP', '2M13', '4NFE', '1XA6', '2DLL', '1CVI', '5MF9', '3IA8', '4BQA', '6TUA', '5FUR', '2D85', '6VME', '1DS5', '1X4K', '6ZYM', '2JBH', '3RUK', '6A9P', '1MW4', '1VA9', '1V4S', '6CYO', '1V5W', '2DBG', '3PCS', '1ABN', '1FDH', '2D46', '2MKV', '1A6A', '2JM1', '2CSH', '2CP2', '2F8A', '6VU5', '6VVO', '1FPZ', '2QNK', '4UIJ', '2DUN', '5AIZ', '2O2K', '6AU8', '3BJ4', '2CPD', '7UW7', '3BIN', '4L1D', '2DU8', '1AU1', '1COK', '4BKX', '1VTN', '2FLY', '2XDV', '3WSO', '1TCE', '4BDW', '2H8N', '2VGB', '4U04', '5MQF', '2V0V', '2F6J', '7UZQ', '3BG3', '5EQX', '6K71', '1K78', '4AVP', '2GHQ', '1BKC', '3T92', '6L03', '2UUR', '1ELV', '1WQU', '1BJ1', '1BIK', '5UV6', '1BHO', '2Y5B', '1E88', '1E8Y', '1WPQ', '2EPB', '5ES1', '2I0E', '2LXW', '1EMR', '1B3O', '3TBD', '4DGJ', '7Q45', '1R6H', '3DGC', '2KPZ', '6PXU', '5UYX', '1R46', '2IJA', '3C5J', '3D3L', '2LW9', '2G30', '1YSE', '2IK3', '7OKX', '4JKQ', '1PYO', '1YDL', '2L7R', '2L73', '1ND7', '1GO9', '1IB1', '4X41', '5UNF', '1NFI', '2RHI', '3O7X', '2KG2', '1PO4', '2NZJ', '1N1J', '1N3U', '1WH6', '2L6A', '4Q28', '2L8J', '2IPX', '3FGA', '1IMH', '4X96', '1KV6', '1ILL', '5KI0', '1WGX', '1P4U', '2REY', '1I85', '3AA1', '5EFQ', '5L85', '2BBA', '5IRY', '6G4Q', '2R17', '1GA3', '2LL2', '1P7X', '3FEH', '4OMT', '6W2L', '2KK0', '5KK9', '4JQI', '1ILM', '1WGY', '4OMC', '4F3F', '5LLM', '2B69', '2EE4', '1YHN', '2RF5', '1NKO', '1G5J', '7S46', '6BSZ', '4XAM', '1WI3', '4MXW', '7APK', '4QKG', '2K1B', '2K28', '2YX8', '1EUB', '2EKI', '6ITU', '1R4A', '8BFI', '1KL9', '1GY5', '2G31', '5LUX', '3C5K', '2G19', '2LW8', '3D3M', '1U35', '1NSI', '2IF5', '4COF', '1GVL', '2LX7', '3MBG', '5GJQ', '2BTZ', '3SHW', '2IGP', '2GJX', '1E8O', '1BH8', '4J15', '1KCW', '6K4J', '2N7Q', '2EQP', '7X39', '1E9K', '6C6K', '1T5C', '7BXU', '1VYH', '1CA7', '6C45', '1OWA', '2FC6', '3EAB', '4PYU', '1HSO', '1DFC', '1HRK', '2V1D', '7W56', '2FBS', '5ODD', '2JY5', '5AIL', '4BKY', '1ATU', '1M4R', '2CQA', '2CPE', '2H6D', '2O10', '4BKN', '2FOT', '7Y5X', '2F9D', '2CQV', '1M4E', '1JE6', '2CPR', '2H62', '1OXN', '2QNJ', '4WQO', '6F3T', '3P4F', '2J8Z', '2D5R', '2C35', '1OM9', '7RE5', '1A66', '2JO8', '1ZT4', '4NH9', '5XQH', '1HI7', '1A7S', '2CDW', '2D9Q', '1H27', '2DOA', '2DLZ', '6X5G', '5J5T', '1ZXA', '1O5T', '2D8U', '4IAQ', '1X5N', '1HD0', '1V9U', '2DO7', '4I5I', '1ZY3', '1ALD', '6O60', '4WII', '5D8K', '2FVV', '2CKO', '2CH5', '2VPJ', '7K1Y'])"
      ]
     },
     "execution_count": 13,
     "metadata": {},
     "output_type": "execute_result"
    }
   ],
   "source": [
    "with open(\"../datasets/processed/pdb_id_to_sequence.json\", \"r\") as f:\n",
    "    pdb_id_to_sequence_str = f.read()\n",
    "\n",
    "pdb_id_to_sequence = json.loads(pdb_id_to_sequence_str)\n",
    "pdb_id_to_sequence.keys()"
   ]
  },
  {
   "cell_type": "code",
   "execution_count": 14,
   "metadata": {},
   "outputs": [
    {
     "data": {
      "text/plain": [
       "(1057.6200918964078, 575.0)"
      ]
     },
     "execution_count": 14,
     "metadata": {},
     "output_type": "execute_result"
    }
   ],
   "source": [
    "import numpy as np\n",
    "\n",
    "seq_lens = [len(seq) for seq in pdb_id_to_sequence.values()]\n",
    "np.mean(seq_lens), np.median(seq_lens)"
   ]
  },
  {
   "cell_type": "markdown",
   "metadata": {},
   "source": [
    "## Getting the ProtBERT embedding for Each Extracted Sequence"
   ]
  },
  {
   "cell_type": "code",
   "execution_count": null,
   "metadata": {},
   "outputs": [],
   "source": [
    "from utils.protbert import ProtBERTEmbedder\n",
    "\n",
    "device = torch.device(\"mps\" if torch.backends.mps.is_available() else \"cpu\")\n",
    "protbert = ProtBERTEmbedder(device=device)"
   ]
  },
  {
   "cell_type": "code",
   "execution_count": null,
   "metadata": {},
   "outputs": [],
   "source": [
    "if not os.path.exists(\"../datasets/processed/pdb_id_to_sequence.json\"):\n",
    "    pdb_id_to_protbert_embedding = {}\n",
    "\n",
    "    for pdb_id, sequence in pdb_id_to_sequence.items():\n",
    "        tokenized_seq = list(sequence)\n",
    "\n",
    "        embeddings = protbert.embed_sequence(tokenized_seq)  # [L, 1024]\n",
    "        pdb_id_to_protbert_embedding[protein_name] = embeddings\n",
    "        print(f\"Embedded {pdb_id}\")"
   ]
  },
  {
   "cell_type": "code",
   "execution_count": null,
   "metadata": {},
   "outputs": [],
   "source": [
    "np.save(\n",
    "    \"../datasets/processed/pdb_to_protbert_dict.npy\",\n",
    "    np.array(pdb_id_to_protbert_embedding),\n",
    ")"
   ]
  }
 ],
 "metadata": {
  "kernelspec": {
   "display_name": "ppi",
   "language": "python",
   "name": "python3"
  },
  "language_info": {
   "codemirror_mode": {
    "name": "ipython",
    "version": 3
   },
   "file_extension": ".py",
   "mimetype": "text/x-python",
   "name": "python",
   "nbconvert_exporter": "python",
   "pygments_lexer": "ipython3",
   "version": "3.11.4"
  },
  "orig_nbformat": 4
 },
 "nbformat": 4,
 "nbformat_minor": 2
}
