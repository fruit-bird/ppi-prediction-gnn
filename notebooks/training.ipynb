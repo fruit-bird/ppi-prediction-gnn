{
    "cells": [
        {
            "cell_type": "code",
            "execution_count": 4,
            "metadata": {},
            "outputs": [],
            "source": [
                "import sys\n",
                "\n",
                "# allows importing local scripts (utils folder)\n",
                "sys.path.append(\"..\")"
            ]
        },
        {
            "cell_type": "code",
            "execution_count": null,
            "metadata": {},
            "outputs": [],
            "source": [
                "import torch\n",
                "\n",
                "from utils.metrics import *\n",
                "from utils.data_prep import dataset, trainloader, testloader\n",
                "\n",
                "from torch_geometric.data import DataLoader as DataLoader"
            ]
        },
        {
            "cell_type": "code",
            "execution_count": null,
            "metadata": {},
            "outputs": [],
            "source": [
                "import math\n",
                "\n",
                "total_samples = len(dataset)\n",
                "n_iterations = math.ceil(total_samples / 5)\n",
                "\n",
                "total_samples, n_iterations"
            ]
        },
        {
            "cell_type": "code",
            "execution_count": null,
            "metadata": {},
            "outputs": [],
            "source": [
                "from torch.optim.lr_scheduler import MultiStepLR\n",
                "\n",
                "\n",
                "device = torch.device(\"mps\" if torch.backends.mps.is_available() else \"cpu\")\n",
                "\n",
                "\n",
                "def train(model, trainloader, optimizer, epoch):\n",
                "    model.train()\n",
                "\n",
                "    loss_func = torch.nn.MSELoss()\n",
                "    predictions_tr = torch.Tensor()\n",
                "    scheduler = MultiStepLR(optimizer, milestones=[1, 5], gamma=0.5)\n",
                "\n",
                "    labels_tr = torch.Tensor()\n",
                "    for prot_1, prot_2, label in trainloader:\n",
                "        prot_1 = prot_1.to(device)\n",
                "        prot_2 = prot_2.to(device)\n",
                "\n",
                "        optimizer.zero_grad()\n",
                "        output = model(prot_1, prot_2)\n",
                "\n",
                "        predictions_tr = torch.cat((predictions_tr, output.cpu()), 0)\n",
                "        labels_tr = torch.cat((labels_tr, label.view(-1, 1).cpu()), 0)\n",
                "        loss = loss_func(output, label.view(-1, 1).float().to(device))\n",
                "\n",
                "        loss.backward()\n",
                "        optimizer.step()\n",
                "\n",
                "    scheduler.step()\n",
                "    labels_tr = labels_tr.detach().numpy()\n",
                "    predictions_tr = predictions_tr.detach().numpy()\n",
                "    acc_tr = get_accuracy(labels_tr, predictions_tr, 0.5)\n",
                "\n",
                "    print(f\"Epoch {epoch - 1}/30 - train_loss: {loss} - train_accuracy: {acc_tr}\")"
            ]
        },
        {
            "cell_type": "code",
            "execution_count": null,
            "metadata": {},
            "outputs": [],
            "source": [
                "@torch.no_grad()\n",
                "def predict(model, loader):\n",
                "    model.eval()\n",
                "    predictions = torch.Tensor()\n",
                "    labels = torch.Tensor()\n",
                "    for prot_1, prot_2, label in loader:\n",
                "        prot_1 = prot_1.to(device)\n",
                "        prot_2 = prot_2.to(device)\n",
                "        # print(torch.Tensor.size(prot_1.x), torch.Tensor.size(prot_2.x))\n",
                "        output = model(prot_1, prot_2)\n",
                "        predictions = torch.cat((predictions, output.cpu()), 0)\n",
                "        labels = torch.cat((labels, label.view(-1, 1).cpu()), 0)\n",
                "    labels = labels.numpy()\n",
                "    predictions = predictions.numpy()\n",
                "    return labels.flatten(), predictions.flatten()"
            ]
        },
        {
            "cell_type": "markdown",
            "metadata": {},
            "source": [
                "## GCNN"
            ]
        },
        {
            "cell_type": "code",
            "execution_count": null,
            "metadata": {},
            "outputs": [],
            "source": [
                "from utils.models import GCNN\n",
                "\n",
                "N_EPOCHS_TO_STOP = 6\n",
                "NUM_EPOCHS = 50\n",
                "\n",
                "epochs_no_improve = 0\n",
                "early_stop = False\n",
                "\n",
                "min_loss = 100\n",
                "best_accuracy = 0\n",
                "\n",
                "model = GCNN().to(device)\n",
                "optimizer = torch.optim.Adam(model.parameters(), lr=0.001)\n",
                "loss_func = torch.nn.MSELoss()"
            ]
        },
        {
            "cell_type": "code",
            "execution_count": 15,
            "metadata": {},
            "outputs": [
                {
                    "name": "stdout",
                    "output_type": "stream",
                    "text": [
                        "Epoch 0/50 - val_loss: 0.22415585425100204 - val_accuracy: 100.0\n",
                        "Epoch 0/30 - train_loss: 0.2417270988225937 - train_accuracy: 87.5\n",
                        "Epoch 0/50 - val_loss: 0.22415585425100204 - val_accuracy: 100.0\n",
                        "Epoch 1/30 - train_loss: 0.21505936980247498 - train_accuracy: 100.0\n",
                        "Epoch 1/50 - val_loss: 0.2020673362312042 - val_accuracy: 100.0\n",
                        "Epoch 2/30 - train_loss: 0.19504331052303314 - train_accuracy: 100.0\n",
                        "Epoch 2/50 - val_loss: 0.18626437093041126 - val_accuracy: 100.0\n",
                        "Epoch 3/30 - train_loss: 0.17464394867420197 - train_accuracy: 100.0\n",
                        "Epoch 3/50 - val_loss: 0.17689909676743198 - val_accuracy: 100.0\n",
                        "Epoch 4/30 - train_loss: 0.18159420788288116 - train_accuracy: 100.0\n",
                        "Epoch 4/50 - val_loss: 0.1717450691658673 - val_accuracy: 100.0\n",
                        "Epoch 5/30 - train_loss: 0.16102281212806702 - train_accuracy: 100.0\n",
                        "Epoch 5/50 - val_loss: 0.16902849359761163 - val_accuracy: 100.0\n",
                        "Epoch 6/30 - train_loss: 0.16341885924339294 - train_accuracy: 100.0\n",
                        "Epoch 6/50 - val_loss: 0.16762955680216152 - val_accuracy: 100.0\n",
                        "Epoch 7/30 - train_loss: 0.15682244300842285 - train_accuracy: 100.0\n",
                        "Epoch 7/50 - val_loss: 0.16691786987375856 - val_accuracy: 100.0\n",
                        "Epoch 8/30 - train_loss: 0.1608475297689438 - train_accuracy: 100.0\n",
                        "Epoch 8/50 - val_loss: 0.16655821710235053 - val_accuracy: 100.0\n",
                        "Epoch 9/30 - train_loss: 0.14553973078727722 - train_accuracy: 100.0\n",
                        "Epoch 9/50 - val_loss: 0.1663758605729715 - val_accuracy: 100.0\n",
                        "Epoch 10/30 - train_loss: 0.15380850434303284 - train_accuracy: 100.0\n",
                        "Epoch 10/50 - val_loss: 0.16628414493296795 - val_accuracy: 100.0\n",
                        "Epoch 11/30 - train_loss: 0.1720666140317917 - train_accuracy: 100.0\n",
                        "Epoch 11/50 - val_loss: 0.16623846489103755 - val_accuracy: 100.0\n",
                        "Epoch 12/30 - train_loss: 0.1650392711162567 - train_accuracy: 100.0\n",
                        "Epoch 12/50 - val_loss: 0.1662157140036591 - val_accuracy: 100.0\n",
                        "Epoch 13/30 - train_loss: 0.15927754342556 - train_accuracy: 100.0\n",
                        "Epoch 13/50 - val_loss: 0.16620441200304015 - val_accuracy: 100.0\n",
                        "Epoch 14/30 - train_loss: 0.15790779888629913 - train_accuracy: 100.0\n",
                        "Epoch 14/50 - val_loss: 0.16619878542973154 - val_accuracy: 100.0\n",
                        "Epoch 15/30 - train_loss: 0.15463285148143768 - train_accuracy: 100.0\n",
                        "Epoch 15/50 - val_loss: 0.16619592474925504 - val_accuracy: 100.0\n",
                        "Epoch 16/30 - train_loss: 0.16234812140464783 - train_accuracy: 100.0\n",
                        "Epoch 16/50 - val_loss: 0.16619453027136366 - val_accuracy: 100.0\n",
                        "Epoch 17/30 - train_loss: 0.14334073662757874 - train_accuracy: 100.0\n",
                        "Epoch 17/50 - val_loss: 0.16619380876140788 - val_accuracy: 100.0\n",
                        "Epoch 18/30 - train_loss: 0.15026496350765228 - train_accuracy: 100.0\n",
                        "Epoch 18/50 - val_loss: 0.16619339946041833 - val_accuracy: 100.0\n",
                        "Epoch 19/30 - train_loss: 0.14540326595306396 - train_accuracy: 100.0\n",
                        "Epoch 19/50 - val_loss: 0.16619325605098823 - val_accuracy: 100.0\n",
                        "Epoch 20/30 - train_loss: 0.16001643240451813 - train_accuracy: 100.0\n",
                        "Epoch 20/50 - val_loss: 0.1661932075043815 - val_accuracy: 100.0\n",
                        "Epoch 21/30 - train_loss: 0.15609797835350037 - train_accuracy: 100.0\n",
                        "Epoch 21/50 - val_loss: 0.16619315895778186 - val_accuracy: 100.0\n"
                    ]
                }
            ],
            "source": [
                "try:\n",
                "    for epoch in range(NUM_EPOCHS):\n",
                "        train(model, trainloader, optimizer, epoch + 1)\n",
                "        G, P = predict(model, testloader)\n",
                "\n",
                "        loss = get_mse(G, P)\n",
                "        accuracy = get_accuracy(G, P, 0.5)\n",
                "\n",
                "        print(f\"Epoch {epoch}/{NUM_EPOCHS} - val_loss: {loss} - val_accuracy: {accuracy}\")\n",
                "        \n",
                "        if accuracy > best_accuracy:\n",
                "            best_accuracy = accuracy\n",
                "            best_acc_epoch = epoch\n",
                "\n",
                "            torch.save(model.state_dict(), \"../datasets/models/GCN.pth\")\n",
                "\n",
                "        if loss < min_loss:\n",
                "            epochs_no_improve = 0\n",
                "            min_loss = loss\n",
                "            min_loss_epoch = epoch\n",
                "        elif loss > min_loss:\n",
                "            epochs_no_improve += 1\n",
                "        if epoch > 5 and epochs_no_improve == N_EPOCHS_TO_STOP:\n",
                "            print(\"Early stopping!\")\n",
                "            early_stop = True\n",
                "            break\n",
                "except KeyboardInterrupt:\n",
                "    torch.save(model.state_dict(), \"../datasets/models/GCN.pth\")"
            ]
        },
        {
            "cell_type": "code",
            "execution_count": 3,
            "metadata": {},
            "outputs": [
                {
                    "name": "stdout",
                    "output_type": "stream",
                    "text": [
                        "min_val_loss: 0.16619315895778186 for epoch 21\n",
                        "best_val_accuracy: 100.0 for epoch 0\n"
                    ]
                }
            ],
            "source": [
                "print(f\"min_val_loss: {min_loss} for epoch {min_loss_epoch}\")\n",
                "print(f\"best_val_accuracy: {best_accuracy} for epoch {best_acc_epoch}\")"
            ]
        },
        {
            "cell_type": "markdown",
            "metadata": {},
            "source": [
                "## GAT"
            ]
        },
        {
            "cell_type": "code",
            "execution_count": null,
            "metadata": {},
            "outputs": [],
            "source": [
                "from utils.models import AttGNN\n",
                "\n",
                "N_EPOCHS_TO_STOP = 6\n",
                "NUM_EPOCHS = 50\n",
                "\n",
                "epochs_no_improve = 0\n",
                "early_stop = False\n",
                "\n",
                "min_loss = 100\n",
                "best_accuracy = 0\n",
                "\n",
                "model = AttGNN().to(device)\n",
                "optimizer = torch.optim.Adam(model.parameters(), lr=0.001)\n",
                "loss_func = torch.nn.MSELoss()"
            ]
        },
        {
            "cell_type": "code",
            "execution_count": 2,
            "metadata": {},
            "outputs": [
                {
                    "name": "stdout",
                    "output_type": "stream",
                    "text": [
                        "Epoch 0/30 - train_loss: 0.2417270988225937 - train_accuracy: 87.50\n",
                        "Epoch 0/50 - val_loss: 0.2241558542510020 - val_accuracy: 100.00\n",
                        "Epoch 1/30 - train_loss: 0.2393461464416413 - train_accuracy: 88.10\n",
                        "Epoch 1/50 - val_loss: 0.2241558542510020 - val_accuracy: 100.00\n",
                        "Epoch 2/30 - train_loss: 0.2369651940606889 - train_accuracy: 88.69\n",
                        "Epoch 2/50 - val_loss: 0.2241558542510020 - val_accuracy: 100.00\n",
                        "Epoch 3/30 - train_loss: 0.2345842416797365 - train_accuracy: 89.29\n",
                        "Epoch 3/50 - val_loss: 0.2241558542510020 - val_accuracy: 100.00\n",
                        "Epoch 4/30 - train_loss: 0.2322032892987842 - train_accuracy: 89.88\n",
                        "Epoch 4/50 - val_loss: 0.2241558542510020 - val_accuracy: 100.00\n",
                        "Epoch 5/30 - train_loss: 0.2298223369178318 - train_accuracy: 90.48\n",
                        "Epoch 5/50 - val_loss: 0.2241558542510020 - val_accuracy: 100.00\n",
                        "Epoch 6/30 - train_loss: 0.2274413845368794 - train_accuracy: 91.07\n",
                        "Epoch 6/50 - val_loss: 0.2241558542510020 - val_accuracy: 100.00\n",
                        "Epoch 7/30 - train_loss: 0.2250604321559270 - train_accuracy: 91.67\n",
                        "Epoch 7/50 - val_loss: 0.2241558542510020 - val_accuracy: 100.00\n",
                        "Epoch 8/30 - train_loss: 0.2226794797749747 - train_accuracy: 92.26\n",
                        "Epoch 8/50 - val_loss: 0.2241558542510020 - val_accuracy: 100.00\n",
                        "Epoch 9/30 - train_loss: 0.2202985273940223 - train_accuracy: 92.86\n",
                        "Epoch 9/50 - val_loss: 0.2241558542510020 - val_accuracy: 100.00\n",
                        "Epoch 10/30 - train_loss: 0.2179175750130699 - train_accuracy: 93.45\n",
                        "Epoch 10/50 - val_loss: 0.2241558542510020 - val_accuracy: 100.00\n",
                        "Epoch 11/30 - train_loss: 0.2155366226321175 - train_accuracy: 94.05\n",
                        "Epoch 11/50 - val_loss: 0.2241558542510020 - val_accuracy: 100.00\n",
                        "Epoch 12/30 - train_loss: 0.2131556702511651 - train_accuracy: 94.64\n",
                        "Epoch 12/50 - val_loss: 0.2241558542510020 - val_accuracy: 100.00\n",
                        "Epoch 13/30 - train_loss: 0.2107747178702127 - train_accuracy: 95.24\n",
                        "Epoch 13/50 - val_loss: 0.2241558542510020 - val_accuracy: 100.00\n",
                        "Epoch 14/30 - train_loss: 0.2083937654892604 - train_accuracy: 95.83\n",
                        "Epoch 14/50 - val_loss: 0.2241558542510020 - val_accuracy: 100.00\n",
                        "Epoch 15/30 - train_loss: 0.2060128131083080 - train_accuracy: 96.43\n",
                        "Epoch 15/50 - val_loss: 0.2241558542510020 - val_accuracy: 100.00\n",
                        "Epoch 16/30 - train_loss: 0.2036318607273556 - train_accuracy: 97.02\n",
                        "Epoch 16/50 - val_loss: 0.2241558542510020 - val_accuracy: 100.00\n",
                        "Epoch 17/30 - train_loss: 0.2012509083464032 - train_accuracy: 97.62\n",
                        "Epoch 17/50 - val_loss: 0.2241558542510020 - val_accuracy: 100.00\n",
                        "Epoch 18/30 - train_loss: 0.1988699559654508 - train_accuracy: 98.21\n",
                        "Epoch 18/50 - val_loss: 0.2241558542510020 - val_accuracy: 100.00\n",
                        "Epoch 19/30 - train_loss: 0.1964890035844984 - train_accuracy: 98.81\n",
                        "Epoch 19/50 - val_loss: 0.2241558542510020 - val_accuracy: 100.00\n",
                        "Epoch 20/30 - train_loss: 0.1941080512035461 - train_accuracy: 99.40\n",
                        "Epoch 20/50 - val_loss: 0.2241558542510020 - val_accuracy: 100.00\n"
                    ]
                }
            ],
            "source": [
                "try:\n",
                "    for epoch in range(NUM_EPOCHS):\n",
                "        train(model, trainloader, optimizer, epoch + 1)\n",
                "        G, P = predict(model, testloader)\n",
                "\n",
                "        loss = get_mse(G, P)\n",
                "        accuracy = get_accuracy(G, P, 0.5)\n",
                "\n",
                "        print(f\"Epoch {epoch}/{NUM_EPOCHS} - val_loss: {loss} - val_accuracy: {accuracy}\")\n",
                "        \n",
                "        if accuracy > best_accuracy:\n",
                "            best_accuracy = accuracy\n",
                "            best_acc_epoch = epoch\n",
                "\n",
                "            torch.save(model.state_dict(), \"../datasets/models/GAT.pth\")\n",
                "\n",
                "        if loss < min_loss:\n",
                "            epochs_no_improve = 0\n",
                "            min_loss = loss\n",
                "            min_loss_epoch = epoch\n",
                "        elif loss > min_loss:\n",
                "            epochs_no_improve += 1\n",
                "        if epoch > 5 and epochs_no_improve == N_EPOCHS_TO_STOP:\n",
                "            print(\"Early stopping!\")\n",
                "            early_stop = True\n",
                "            break\n",
                "except KeyboardInterrupt:\n",
                "    torch.save(model.state_dict(), \"../datasets/models/GAT.pth\")"
            ]
        },
        {
            "cell_type": "code",
            "execution_count": 13,
            "metadata": {},
            "outputs": [
                {
                    "name": "stdout",
                    "output_type": "stream",
                    "text": [
                        "min_val_loss: 0.16619315895778186 for epoch 21\n",
                        "best_val_accuracy: 100.0 for epoch 18"
                    ]
                }
            ],
            "source": [
                "print(f\"min_val_loss : {min_loss} for epoch {min_loss_epoch}\")\n",
                "print(f\"best_val_accuracy : {best_accuracy} for epoch {best_acc_epoch}\")"
            ]
        }
    ],
    "metadata": {
        "kernelspec": {
            "display_name": ".venv",
            "language": "python",
            "name": "python3"
        },
        "language_info": {
            "codemirror_mode": {
                "name": "ipython",
                "version": 3
            },
            "file_extension": ".py",
            "mimetype": "text/x-python",
            "name": "python",
            "nbconvert_exporter": "python",
            "pygments_lexer": "ipython3",
            "version": "3.11.4"
        },
        "orig_nbformat": 4
    },
    "nbformat": 4,
    "nbformat_minor": 2
}
