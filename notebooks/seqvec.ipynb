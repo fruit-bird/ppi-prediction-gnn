{
 "cells": [
  {
   "cell_type": "code",
   "execution_count": null,
   "metadata": {},
   "outputs": [],
   "source": [
    "import os\n",
    "\n",
    "if not os.path.exists(\"../datasets/processed/pdb_to_seqvec_dict.json\"):\n",
    "    from Bio import PDB\n",
    "    import json\n",
    "\n",
    "    PDB_DIRECTORY = \"../datasets/raw/pdbs/\"\n",
    "    pdb_parser = PDB.PDBParser(QUIET=True)\n",
    "\n",
    "    sequences = {}\n",
    "\n",
    "    for filename in os.listdir(PDB_DIRECTORY):\n",
    "        pdb_file_path = os.path.join(PDB_DIRECTORY, filename)\n",
    "\n",
    "        structure = pdb_parser.get_structure(\"protein\", pdb_file_path)\n",
    "        sequence = \"\"\n",
    "\n",
    "        for model in structure:\n",
    "            for chain in model:\n",
    "                for residue in chain:\n",
    "                    if PDB.is_aa(residue, standard=True):\n",
    "                        sequence += PDB.Polypeptide.protein_letters_3to1[\n",
    "                            residue.get_resname()\n",
    "                        ]\n",
    "\n",
    "        protein_name = filename[:-4]\n",
    "        sequences[protein_name] = sequence\n",
    "        print(f\"{protein_name}'s sequence has been extracted from the PDB file\")\n",
    "\n",
    "    with open(\"../datasets/processed/pdb_id_to_sequence.json\", \"w\") as f:\n",
    "        f.write(json.dumps(sequences))"
   ]
  },
  {
   "cell_type": "code",
   "execution_count": null,
   "metadata": {},
   "outputs": [],
   "source": [
    "with open(\"../datasets/processed/pdb_id_to_sequence.json\", \"r\") as f:\n",
    "    pdb_id_to_sequence_str = f.read()\n",
    "\n",
    "pdb_id_to_sequence = json.loads(pdb_id_to_sequence_str)\n",
    "pdb_id_to_sequence.keys()"
   ]
  },
  {
   "cell_type": "code",
   "execution_count": null,
   "metadata": {},
   "outputs": [],
   "source": [
    "from allennlp.commands.elmo import ElmoEmbedder\n",
    "from pathlib import Path\n",
    "\n",
    "# Path to the pre-trained seqvec model weights\n",
    "model_dir = Path(\"../datasets/seqvec/uniref50_v2\")\n",
    "weights = model_dir / \"weights.hdf5\"\n",
    "options = model_dir / \"options.json\"\n",
    "\n",
    "seqvec_model = ElmoEmbedder(options, weights, cuda_device=-1)"
   ]
  },
  {
   "cell_type": "code",
   "execution_count": null,
   "metadata": {},
   "outputs": [],
   "source": [
    "if not os.path.exists(\"../datasets/processed/pdb_to_seqvec_dict.json\"):\n",
    "    pdb_id_to_seqvec_embedding = {}\n",
    "\n",
    "    for pdb_id, sequence in pdb_id_to_sequence.items():\n",
    "        tokenized_seq = list(sequence)\n",
    "\n",
    "        embeddings = seqvec_model.embed_sentence(tokenized_seq)  # [L, 1024]\n",
    "        pdb_id_to_seqvec_embedding[protein_name] = embeddings\n",
    "        print(f\"Embedded {pdb_id}\")"
   ]
  },
  {
   "cell_type": "code",
   "execution_count": null,
   "metadata": {},
   "outputs": [],
   "source": [
    "if not os.path.exists(\"../datasets/processed/pdb_to_seqvec_dict.json\"):\n",
    "    import json\n",
    "\n",
    "    with open(\"../datasets/processed/pdb_to_seqvec_dict.json\", \"w\") as f:\n",
    "        f.write(json.dumps(pdb_id_to_seqvec_embedding))"
   ]
  },
  {
   "cell_type": "code",
   "execution_count": null,
   "metadata": {},
   "outputs": [],
   "source": [
    "import numpy as np\n",
    "\n",
    "np.save(\n",
    "    \"../datasets/processed/pdb_to_seqvec_dict.npy\",\n",
    "    np.array(pdb_id_to_seqvec_embedding),\n",
    ")"
   ]
  }
 ],
 "metadata": {
  "kernelspec": {
   "display_name": "seq2vec",
   "language": "python",
   "name": "python3"
  },
  "language_info": {
   "codemirror_mode": {
    "name": "ipython",
    "version": 3
   },
   "file_extension": ".py",
   "mimetype": "text/x-python",
   "name": "python",
   "nbconvert_exporter": "python",
   "pygments_lexer": "ipython3",
   "version": "3.11.4"
  },
  "orig_nbformat": 4
 },
 "nbformat": 4,
 "nbformat_minor": 2
}
