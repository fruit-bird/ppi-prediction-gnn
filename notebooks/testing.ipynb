{
 "cells": [
  {
   "cell_type": "code",
   "execution_count": 1,
   "metadata": {},
   "outputs": [],
   "source": [
    "import sys\n",
    "\n",
    "# allows importing local scripts (utils folder)\n",
    "sys.path.append(\"..\")"
   ]
  },
  {
   "cell_type": "code",
   "execution_count": null,
   "metadata": {},
   "outputs": [],
   "source": [
    "import torch\n",
    "\n",
    "from utils.metrics import *\n",
    "from utils.data_prep import testloader\n",
    "from utils.models import AttGNN"
   ]
  },
  {
   "cell_type": "code",
   "execution_count": null,
   "metadata": {},
   "outputs": [],
   "source": [
    "device = torch.device(\"mps\" if torch.cuda.is_available() else \"cpu\")\n",
    "\n",
    "model = AttGNN()\n",
    "model.load_state_dict(torch.load(\"../datasets/models/GCN.pth\")).to(device)\n",
    "\n",
    "model.eval()\n",
    "\n",
    "predictions = torch.Tensor()\n",
    "labels = torch.Tensor()\n",
    "\n",
    "with torch.no_grad():\n",
    "    for prot_1, prot_2, label in testloader:\n",
    "        prot_1 = prot_1.to(device)\n",
    "        prot_2 = prot_2.to(device)\n",
    "\n",
    "        output = model(prot_1, prot_2)\n",
    "\n",
    "        predictions = torch.cat((predictions, output.cpu()), 0)\n",
    "        labels = torch.cat((labels, label.view(-1, 1).cpu()), 0)\n",
    "\n",
    "labels = labels.numpy().flatten()\n",
    "predictions = predictions.numpy().flatten()"
   ]
  },
  {
   "cell_type": "code",
   "execution_count": 1,
   "metadata": {},
   "outputs": [
    {
     "name": "stdout",
     "output_type": "stream",
     "text": [
      "array([1., 1., 0., 0., 1., 0., 1., 0., 1., 1.])\n"
     ]
    }
   ],
   "source": [
    "labels"
   ]
  },
  {
   "cell_type": "code",
   "execution_count": 4,
   "metadata": {},
   "outputs": [
    {
     "name": "stdout",
     "output_type": "stream",
     "text": [
      "loss : 0.004304013432829379\n",
      "Accuracy : 100.0\n",
      "precision: 1.0\n",
      "f-score : 1.0\n"
     ]
    }
   ],
   "source": [
    "loss = get_mse(labels, predictions)\n",
    "acc = get_accuracy(labels, predictions, 0.5)\n",
    "prec = precision(labels, predictions, 0.5)\n",
    "f1 = f_score(labels, predictions, 0.5)\n",
    "\n",
    "print(f\"loss : {loss}\")\n",
    "print(f\"Accuracy : {acc}\")\n",
    "print(f\"precision: {prec}\")\n",
    "print(f\"f-score : {f1}\")"
   ]
  }
 ],
 "metadata": {
  "kernelspec": {
   "display_name": "pytorch",
   "language": "python",
   "name": "python3"
  },
  "language_info": {
   "codemirror_mode": {
    "name": "ipython",
    "version": 3
   },
   "file_extension": ".py",
   "mimetype": "text/x-python",
   "name": "python",
   "nbconvert_exporter": "python",
   "pygments_lexer": "ipython3",
   "version": "3.11.4"
  },
  "orig_nbformat": 4
 },
 "nbformat": 4,
 "nbformat_minor": 2
}
